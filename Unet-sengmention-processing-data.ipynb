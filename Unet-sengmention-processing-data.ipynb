{
 "cells": [
  {
   "cell_type": "code",
   "execution_count": 4,
   "metadata": {
    "scrolled": true
   },
   "outputs": [
    {
     "name": "stdout",
     "output_type": "stream",
     "text": [
      "\u001b[33mYou are using pip version 18.1, however version 20.3b1 is available.\r\n",
      "You should consider upgrading via the 'pip install --upgrade pip' command.\u001b[0m\r\n"
     ]
    }
   ],
   "source": [
    "!pip install tensorlayer==1.6.0"
   ]
  },
  {
   "cell_type": "code",
   "execution_count": 3,
   "metadata": {},
   "outputs": [
    {
     "name": "stderr",
     "output_type": "stream",
     "text": [
      "/home/sangqle/.pyenv/versions/3.6.9/envs/unet/lib/python3.6/site-packages/tensorflow/python/framework/dtypes.py:526: FutureWarning: Passing (type, 1) or '1type' as a synonym of type is deprecated; in a future version of numpy, it will be understood as (type, (1,)) / '(1,)type'.\n",
      "  _np_qint8 = np.dtype([(\"qint8\", np.int8, 1)])\n",
      "/home/sangqle/.pyenv/versions/3.6.9/envs/unet/lib/python3.6/site-packages/tensorflow/python/framework/dtypes.py:527: FutureWarning: Passing (type, 1) or '1type' as a synonym of type is deprecated; in a future version of numpy, it will be understood as (type, (1,)) / '(1,)type'.\n",
      "  _np_quint8 = np.dtype([(\"quint8\", np.uint8, 1)])\n",
      "/home/sangqle/.pyenv/versions/3.6.9/envs/unet/lib/python3.6/site-packages/tensorflow/python/framework/dtypes.py:528: FutureWarning: Passing (type, 1) or '1type' as a synonym of type is deprecated; in a future version of numpy, it will be understood as (type, (1,)) / '(1,)type'.\n",
      "  _np_qint16 = np.dtype([(\"qint16\", np.int16, 1)])\n",
      "/home/sangqle/.pyenv/versions/3.6.9/envs/unet/lib/python3.6/site-packages/tensorflow/python/framework/dtypes.py:529: FutureWarning: Passing (type, 1) or '1type' as a synonym of type is deprecated; in a future version of numpy, it will be understood as (type, (1,)) / '(1,)type'.\n",
      "  _np_quint16 = np.dtype([(\"quint16\", np.uint16, 1)])\n",
      "/home/sangqle/.pyenv/versions/3.6.9/envs/unet/lib/python3.6/site-packages/tensorflow/python/framework/dtypes.py:530: FutureWarning: Passing (type, 1) or '1type' as a synonym of type is deprecated; in a future version of numpy, it will be understood as (type, (1,)) / '(1,)type'.\n",
      "  _np_qint32 = np.dtype([(\"qint32\", np.int32, 1)])\n",
      "/home/sangqle/.pyenv/versions/3.6.9/envs/unet/lib/python3.6/site-packages/tensorflow/python/framework/dtypes.py:535: FutureWarning: Passing (type, 1) or '1type' as a synonym of type is deprecated; in a future version of numpy, it will be understood as (type, (1,)) / '(1,)type'.\n",
      "  np_resource = np.dtype([(\"resource\", np.ubyte, 1)])\n"
     ]
    }
   ],
   "source": [
    "import tensorflow as tf"
   ]
  },
  {
   "cell_type": "code",
   "execution_count": 2,
   "metadata": {},
   "outputs": [
    {
     "name": "stderr",
     "output_type": "stream",
     "text": [
      "/home/sangqle/.pyenv/versions/3.6.9/envs/unet/lib/python3.6/site-packages/tensorflow/python/framework/dtypes.py:526: FutureWarning: Passing (type, 1) or '1type' as a synonym of type is deprecated; in a future version of numpy, it will be understood as (type, (1,)) / '(1,)type'.\n",
      "  _np_qint8 = np.dtype([(\"qint8\", np.int8, 1)])\n",
      "/home/sangqle/.pyenv/versions/3.6.9/envs/unet/lib/python3.6/site-packages/tensorflow/python/framework/dtypes.py:527: FutureWarning: Passing (type, 1) or '1type' as a synonym of type is deprecated; in a future version of numpy, it will be understood as (type, (1,)) / '(1,)type'.\n",
      "  _np_quint8 = np.dtype([(\"quint8\", np.uint8, 1)])\n",
      "/home/sangqle/.pyenv/versions/3.6.9/envs/unet/lib/python3.6/site-packages/tensorflow/python/framework/dtypes.py:528: FutureWarning: Passing (type, 1) or '1type' as a synonym of type is deprecated; in a future version of numpy, it will be understood as (type, (1,)) / '(1,)type'.\n",
      "  _np_qint16 = np.dtype([(\"qint16\", np.int16, 1)])\n",
      "/home/sangqle/.pyenv/versions/3.6.9/envs/unet/lib/python3.6/site-packages/tensorflow/python/framework/dtypes.py:529: FutureWarning: Passing (type, 1) or '1type' as a synonym of type is deprecated; in a future version of numpy, it will be understood as (type, (1,)) / '(1,)type'.\n",
      "  _np_quint16 = np.dtype([(\"quint16\", np.uint16, 1)])\n",
      "/home/sangqle/.pyenv/versions/3.6.9/envs/unet/lib/python3.6/site-packages/tensorflow/python/framework/dtypes.py:530: FutureWarning: Passing (type, 1) or '1type' as a synonym of type is deprecated; in a future version of numpy, it will be understood as (type, (1,)) / '(1,)type'.\n",
      "  _np_qint32 = np.dtype([(\"qint32\", np.int32, 1)])\n",
      "/home/sangqle/.pyenv/versions/3.6.9/envs/unet/lib/python3.6/site-packages/tensorflow/python/framework/dtypes.py:535: FutureWarning: Passing (type, 1) or '1type' as a synonym of type is deprecated; in a future version of numpy, it will be understood as (type, (1,)) / '(1,)type'.\n",
      "  np_resource = np.dtype([(\"resource\", np.ubyte, 1)])\n"
     ]
    }
   ],
   "source": [
    "import tensorlayer as tl\n",
    "import numpy as np\n",
    "import os\n",
    "import csv\n",
    "import random\n",
    "import gc\n",
    "import pickle\n",
    "import nibabel as nib"
   ]
  },
  {
   "cell_type": "code",
   "execution_count": 3,
   "metadata": {},
   "outputs": [
    {
     "name": "stdout",
     "output_type": "stream",
     "text": [
      "1.13.1\n"
     ]
    }
   ],
   "source": [
    "import tensorflow as tf\n",
    "print(tf.__version__)"
   ]
  },
  {
   "cell_type": "code",
   "execution_count": 6,
   "metadata": {},
   "outputs": [],
   "source": [
    "###============================= SETTINGS ===================================###\n",
    "DATA_SIZE = 'half' # (small, half or all)\n",
    "\n",
    "save_dir = \"/media/sangqle/BACKUP/\"\n",
    "if not os.path.exists(save_dir):\n",
    "    os.makedirs(save_dir)\n",
    "\n",
    "HGG_data_path = \"/media/sangqle/BACKUP/MICCAI_BraTS_2018_Data_Training/HGG\"\n",
    "LGG_data_path = \"/media/sangqle/BACKUP/MICCAI_BraTS_2018_Data_Training/LGG\"\n",
    "survival_csv_path = \"/media/sangqle/BACKUP/MICCAI_BraTS_2018_Data_Training/survival_data.csv\"\n",
    "###==========================================================================###"
   ]
  },
  {
   "cell_type": "code",
   "execution_count": 7,
   "metadata": {},
   "outputs": [
    {
     "name": "stdout",
     "output_type": "stream",
     "text": [
      "163\n"
     ]
    }
   ],
   "source": [
    "survival_id_list = []\n",
    "survival_age_list =[]\n",
    "survival_peroid_list = []\n",
    "\n",
    "with open(survival_csv_path, 'r') as f:\n",
    "    reader = csv.reader(f)\n",
    "    next(reader)\n",
    "    for idx, content in enumerate(reader):\n",
    "        survival_id_list.append(content[0])\n",
    "        survival_age_list.append(float(content[1]))\n",
    "        survival_peroid_list.append(float(content[2]))\n",
    "\n",
    "print(len(survival_id_list)) #163"
   ]
  },
  {
   "cell_type": "code",
   "execution_count": 8,
   "metadata": {},
   "outputs": [
    {
     "name": "stdout",
     "output_type": "stream",
     "text": [
      "100 30\n"
     ]
    }
   ],
   "source": [
    "if DATA_SIZE == 'all':\n",
    "    HGG_path_list = tl.files.load_folder_list(path=HGG_data_path)\n",
    "    LGG_path_list = tl.files.load_folder_list(path=LGG_data_path)\n",
    "elif DATA_SIZE == 'half':\n",
    "    HGG_path_list = tl.files.load_folder_list(path=HGG_data_path)[0:100]# DEBUG WITH SMALL DATA\n",
    "    LGG_path_list = tl.files.load_folder_list(path=LGG_data_path)[0:30] # DEBUG WITH SMALL DATA\n",
    "elif DATA_SIZE == 'small':\n",
    "    HGG_path_list = tl.files.load_folder_list(path=HGG_data_path)[0:50] # DEBUG WITH SMALL DATA\n",
    "    LGG_path_list = tl.files.load_folder_list(path=LGG_data_path)[0:20] # DEBUG WITH SMALL DATA\n",
    "elif DATA_SIZE == 'smallest':\n",
    "    HGG_path_list = tl.files.load_folder_list(path=HGG_data_path)[0:20] # DEBUG WITH SMALL DATA\n",
    "    LGG_path_list = tl.files.load_folder_list(path=LGG_data_path)[0:10] # DEBUG WITH SMALL DATA\n",
    "    \n",
    "else:\n",
    "    exit(\"Unknow DATA_SIZE\")\n",
    "print(len(HGG_path_list), len(LGG_path_list)) #210 #75\n",
    "\n",
    "HGG_name_list = [os.path.basename(p) for p in HGG_path_list]\n",
    "LGG_name_list = [os.path.basename(p) for p in LGG_path_list]"
   ]
  },
  {
   "cell_type": "code",
   "execution_count": 9,
   "metadata": {},
   "outputs": [
    {
     "data": {
      "text/plain": [
       "100"
      ]
     },
     "execution_count": 9,
     "metadata": {},
     "output_type": "execute_result"
    }
   ],
   "source": [
    "len(HGG_name_list)"
   ]
  },
  {
   "cell_type": "code",
   "execution_count": 10,
   "metadata": {},
   "outputs": [
    {
     "name": "stdout",
     "output_type": "stream",
     "text": [
      "Brats18_TCIA08_167_1\n",
      "Brats18_TCIA08_242_1\n",
      "Brats18_TCIA08_319_1\n",
      "Brats18_TCIA08_469_1\n",
      "Brats18_TCIA08_218_1\n",
      "Brats18_TCIA08_406_1\n",
      "Brats18_TCIA08_280_1\n",
      "Brats18_TCIA08_105_1\n",
      "Brats18_TCIA08_278_1\n",
      "Brats18_TCIA06_247_1\n",
      "Brats18_TCIA06_372_1\n",
      "Brats18_TCIA06_165_1\n",
      "Brats18_TCIA06_409_1\n",
      "Brats18_TCIA06_184_1\n",
      "Brats18_TCIA05_277_1\n",
      "Brats18_TCIA05_478_1\n",
      "Brats18_TCIA04_437_1\n",
      "Brats18_TCIA04_192_1\n",
      "Brats18_TCIA04_479_1\n",
      "Brats18_TCIA04_111_1\n",
      "Brats18_TCIA04_343_1\n",
      "Brats18_TCIA04_149_1\n",
      "Brats18_TCIA03_474_1\n",
      "Brats18_TCIA03_419_1\n",
      "Brats18_TCIA03_199_1\n",
      "Brats18_TCIA03_296_1\n",
      "Brats18_TCIA03_257_1\n",
      "Brats18_TCIA03_498_1\n",
      "Brats18_TCIA03_138_1\n",
      "Brats18_TCIA03_338_1\n",
      "Brats18_TCIA03_265_1\n",
      "Brats18_TCIA03_375_1\n",
      "Brats18_TCIA03_121_1\n",
      "Brats18_TCIA02_274_1\n",
      "Brats18_TCIA02_473_1\n",
      "Brats18_TCIA02_322_1\n",
      "Brats18_TCIA02_179_1\n",
      "Brats18_TCIA02_368_1\n",
      "Brats18_TCIA02_135_1\n",
      "Brats18_TCIA02_471_1\n",
      "Brats18_TCIA02_394_1\n",
      "Brats18_TCIA02_300_1\n",
      "Brats18_TCIA02_118_1\n",
      "Brats18_TCIA02_226_1\n",
      "Brats18_TCIA02_455_1\n",
      "Brats18_TCIA02_283_1\n",
      "Brats18_TCIA02_430_1\n",
      "Brats18_TCIA02_321_1\n",
      "Brats18_TCIA02_314_1\n",
      "Brats18_TCIA02_290_1\n",
      "Brats18_TCIA02_377_1\n",
      "Brats18_TCIA02_198_1\n",
      "Brats18_TCIA02_491_1\n",
      "Brats18_TCIA01_150_1\n",
      "Brats18_TCIA01_335_1\n",
      "Brats18_TCIA01_411_1\n",
      "Brats18_TCIA01_203_1\n",
      "Brats18_TCIA01_390_1\n",
      "Brats18_TCIA01_235_1\n",
      "Brats18_TCIA01_499_1\n",
      "Brats18_TCIA01_412_1\n",
      "Brats18_TCIA01_448_1\n",
      "Brats18_TCIA01_401_1\n",
      "Brats18_TCIA01_147_1\n",
      "Brats18_TCIA01_378_1\n",
      "Brats18_TCIA01_201_1\n",
      "Brats18_TCIA01_429_1\n",
      "Brats18_TCIA01_186_1\n",
      "Brats18_TCIA01_460_1\n",
      "Brats18_TCIA01_190_1\n",
      "Brats18_TCIA01_425_1\n",
      "Brats18_CBICA_BHM_1\n",
      "Brats18_CBICA_BHB_1\n",
      "Brats18_CBICA_AZH_1\n",
      "Brats18_CBICA_AYW_1\n",
      "Brats18_CBICA_AYU_1\n",
      "Brats18_CBICA_AYI_1\n",
      "Brats18_CBICA_AYA_1\n",
      "Brats18_CBICA_AXW_1\n",
      "Brats18_CBICA_AXQ_1\n",
      "Brats18_CBICA_AXO_1\n",
      "82 0\n"
     ]
    }
   ],
   "source": [
    "survival_id_from_HGG = []\n",
    "survival_id_from_LGG = []\n",
    "for i in survival_id_list:\n",
    "    if i in HGG_name_list:\n",
    "        survival_id_from_HGG.append(i)\n",
    "    elif i in LGG_name_list:\n",
    "        survival_id_from_LGG.append(i)\n",
    "    else:\n",
    "        print(i)\n",
    "\n",
    "print(len(survival_id_from_HGG), len(survival_id_from_LGG)) #163, 0"
   ]
  },
  {
   "cell_type": "code",
   "execution_count": 11,
   "metadata": {},
   "outputs": [
    {
     "data": {
      "text/plain": [
       "163"
      ]
     },
     "execution_count": 11,
     "metadata": {},
     "output_type": "execute_result"
    }
   ],
   "source": [
    "len(survival_id_list)"
   ]
  },
  {
   "cell_type": "code",
   "execution_count": 12,
   "metadata": {},
   "outputs": [],
   "source": [
    "# use 42 from 210 (in 163 subset) and 15 from 75 as 0.8/0.2 train/dev split\n",
    "\n",
    "# use 126/42/42 from 210 (in 163 subset) and 45/15/15 from 75 as 0.6/0.2/0.2 train/dev/test split\n",
    "index_HGG = list(range(0, len(survival_id_from_HGG)))\n",
    "index_LGG = list(range(0, len(LGG_name_list)))\n",
    "# random.shuffle(index_HGG)\n",
    "# random.shuffle(index_HGG)\n"
   ]
  },
  {
   "cell_type": "code",
   "execution_count": 14,
   "metadata": {},
   "outputs": [
    {
     "data": {
      "text/plain": [
       "82"
      ]
     },
     "execution_count": 14,
     "metadata": {},
     "output_type": "execute_result"
    }
   ],
   "source": [
    "len(index_HGG)"
   ]
  },
  {
   "cell_type": "code",
   "execution_count": 15,
   "metadata": {},
   "outputs": [],
   "source": [
    "if DATA_SIZE == 'all':\n",
    "    dev_index_HGG = index_HGG[-84:-42]\n",
    "    test_index_HGG = index_HGG[-42:]\n",
    "    tr_index_HGG = index_HGG[:-84]\n",
    "    dev_index_LGG = index_LGG[-30:-15]\n",
    "    test_index_LGG = index_LGG[-15:]\n",
    "    tr_index_LGG = index_LGG[:-30]\n",
    "elif DATA_SIZE == 'half':\n",
    "    dev_index_HGG = index_HGG[-30:]  # DEBUG WITH SMALL DATA\n",
    "    test_index_HGG = index_HGG[-5:]\n",
    "    tr_index_HGG = index_HGG[:-30]\n",
    "    dev_index_LGG = index_LGG[-10:]  # DEBUG WITH SMALL DATA\n",
    "    test_index_LGG = index_LGG[-5:]\n",
    "    tr_index_LGG = index_LGG[:-10]\n",
    "elif DATA_SIZE == 'small':\n",
    "    dev_index_HGG = index_HGG[35:42]   # DEBUG WITH SMALL DATA\n",
    "    # print(index_HGG, dev_index_HGG)\n",
    "    # exit()\n",
    "    test_index_HGG = index_HGG[41:42]\n",
    "    tr_index_HGG = index_HGG[0:35]\n",
    "    dev_index_LGG = index_LGG[7:10]    # DEBUG WITH SMALL DATA\n",
    "    test_index_LGG = index_LGG[9:10]\n",
    "    tr_index_LGG = index_LGG[0:7]"
   ]
  },
  {
   "cell_type": "code",
   "execution_count": 16,
   "metadata": {},
   "outputs": [
    {
     "data": {
      "text/plain": [
       "52"
      ]
     },
     "execution_count": 16,
     "metadata": {},
     "output_type": "execute_result"
    }
   ],
   "source": [
    "len(tr_index_HGG)"
   ]
  },
  {
   "cell_type": "code",
   "execution_count": 17,
   "metadata": {},
   "outputs": [],
   "source": [
    "survival_id_dev_HGG = [survival_id_from_HGG[i] for i in dev_index_HGG]\n",
    "survival_id_test_HGG = [survival_id_from_HGG[i] for i in test_index_HGG]\n",
    "survival_id_tr_HGG = [survival_id_from_HGG[i] for i in tr_index_HGG]\n",
    "\n",
    "survival_id_dev_LGG = [LGG_name_list[i] for i in dev_index_LGG]\n",
    "survival_id_test_LGG = [LGG_name_list[i] for i in test_index_LGG]\n",
    "survival_id_tr_LGG = [LGG_name_list[i] for i in tr_index_LGG]\n",
    "\n",
    "survival_age_dev = [survival_age_list[survival_id_list.index(i)] for i in survival_id_dev_HGG]\n",
    "survival_age_test = [survival_age_list[survival_id_list.index(i)] for i in survival_id_test_HGG]\n",
    "survival_age_tr = [survival_age_list[survival_id_list.index(i)] for i in survival_id_tr_HGG]\n",
    "\n",
    "survival_period_dev = [survival_peroid_list[survival_id_list.index(i)] for i in survival_id_dev_HGG]\n",
    "survival_period_test = [survival_peroid_list[survival_id_list.index(i)] for i in survival_id_test_HGG]\n",
    "survival_period_tr = [survival_peroid_list[survival_id_list.index(i)] for i in survival_id_tr_HGG]\n",
    "\n",
    "data_types = ['flair', 't1', 't1ce', 't2']\n",
    "data_types_mean_std_dict = {i: {'mean': 0.0, 'std': 1.0} for i in data_types}"
   ]
  },
  {
   "cell_type": "code",
   "execution_count": 18,
   "metadata": {},
   "outputs": [
    {
     "data": {
      "text/plain": [
       "30"
      ]
     },
     "execution_count": 18,
     "metadata": {},
     "output_type": "execute_result"
    }
   ],
   "source": [
    "len(survival_id_dev_HGG)"
   ]
  },
  {
   "cell_type": "code",
   "execution_count": 19,
   "metadata": {
    "scrolled": true
   },
   "outputs": [
    {
     "name": "stderr",
     "output_type": "stream",
     "text": [
      "/home/sangqle/.pyenv/versions/3.6.9/envs/unet/lib/python3.6/site-packages/ipykernel_launcher.py:13: DeprecationWarning: get_data() is deprecated in favor of get_fdata(), which has a more predictable return type. To obtain get_data() behavior going forward, use numpy.asanyarray(img.dataobj).\n",
      "\n",
      "* deprecated from version: 3.0\n",
      "* Will raise <class 'nibabel.deprecator.ExpiredDeprecationError'> as of version: 5.0\n",
      "  del sys.path[0]\n",
      "/home/sangqle/.pyenv/versions/3.6.9/envs/unet/lib/python3.6/site-packages/ipykernel_launcher.py:18: DeprecationWarning: get_data() is deprecated in favor of get_fdata(), which has a more predictable return type. To obtain get_data() behavior going forward, use numpy.asanyarray(img.dataobj).\n",
      "\n",
      "* deprecated from version: 3.0\n",
      "* Will raise <class 'nibabel.deprecator.ExpiredDeprecationError'> as of version: 5.0\n"
     ]
    },
    {
     "name": "stdout",
     "output_type": "stream",
     "text": [
      "{'flair': {'mean': 55.052796611352356, 'std': 380.9875011565797}, 't1': {'mean': 71.32039103770333, 'std': 366.6561974269796}, 't1ce': {'mean': 80.16341578870278, 'std': 451.33543035257645}, 't2': {'mean': 77.49268785239178, 'std': 443.6208077152802}}\n"
     ]
    }
   ],
   "source": [
    "# calculate mean and std for all data types\n",
    "\n",
    "# preserving_ratio = 0.0\n",
    "# preserving_ratio = 0.01 # 0.118 removed\n",
    "# preserving_ratio = 0.05 # 0.213 removed\n",
    "# preserving_ratio = 0.10 # 0.359 removed\n",
    "\n",
    "#==================== LOAD ALL IMAGES' PATH AND COMPUTE MEAN/ STD\n",
    "for i in data_types:\n",
    "    data_temp_list = []\n",
    "    for j in HGG_name_list:\n",
    "        img_path = os.path.join(HGG_data_path, j, j + '_' + i + '.nii.gz')\n",
    "        img = nib.load(img_path).get_data()\n",
    "        data_temp_list.append(img)\n",
    "\n",
    "    for j in LGG_name_list:\n",
    "        img_path = os.path.join(LGG_data_path, j, j + '_' + i + '.nii.gz')\n",
    "        img = nib.load(img_path).get_data()\n",
    "        data_temp_list.append(img)\n",
    "                                                                                                                                                                                                                                                                                                                                                                                                                                                                                                                                                                                                                                                                                                                                                                                                                                                                                                                                                                                                                                                                                                                                                                                                                                                                                                                                                                                                                                                                                                                                                                                                                                                                                                                                                                                                                                                                                                                                                                                                                                                                                                                                                                                                                                                                                                                                                                                                                                                                                                                                                                                                                                                                                                                                                                                                                                                                                                                                                                                                                                                                                                                                                                                                                                                                                                                                                                                                                                                                                                                                                                                                                                                                                                                                                                                                                                                                                                                                                                                                                                                                                                                                                                                                                                                                                                                                                                                                                                                                                                                                                                                                                                                                                                                                                                                                                                                                                                                                                                                                                                                                                                                                                                                                                                                                                                                                                                                                                                                                                                                                                                                                                                                                                                                                                                                                                                                                                                                                                                                                                                                                                                                                                                                                                                                                                                                                                                                                                                                                                                                                                                                                                                                                                                                                                                                                                                                                                                                                                                                                                                                                                                                                                                                                                                                                                                                                                                                                                                                                                                                                                                                                                                                                                                                                                                                                                                                                                                                                                                                                                                                                                                                                                                                                                                                                                                                                                                                                                                                                                                                                                                                                                                                                                                                                                                                                                                                                                                                                                                                                                                                                                                                                                                                                                                                                                                                                                                                                                                                                                                                                                                                                                                                                                                                                                                                                                                                                \n",
    "    data_temp_list = np.asarray(data_temp_list)\n",
    "    m = np.mean(data_temp_list)\n",
    "    s = np.std(data_temp_list)\n",
    "    data_types_mean_std_dict[i]['mean'] = m\n",
    "    data_types_mean_std_dict[i]['std'] = s\n",
    "del data_temp_list\n",
    "print(data_types_mean_std_dict)"
   ]
  },
  {
   "cell_type": "code",
   "execution_count": 20,
   "metadata": {},
   "outputs": [],
   "source": [
    "with open(save_dir + 'mean_std_dict_half.pkl', 'wb') as f:\n",
    "    pickle.dump(data_types_mean_std_dict, f, protocol = 4)"
   ]
  },
  {
   "cell_type": "code",
   "execution_count": 21,
   "metadata": {},
   "outputs": [
    {
     "data": {
      "text/plain": [
       "{'flair': {'mean': 55.052796611352356, 'std': 380.9875011565797},\n",
       " 't1': {'mean': 71.32039103770333, 'std': 366.6561974269796},\n",
       " 't1ce': {'mean': 80.16341578870278, 'std': 451.33543035257645},\n",
       " 't2': {'mean': 77.49268785239178, 'std': 443.6208077152802}}"
      ]
     },
     "execution_count": 21,
     "metadata": {},
     "output_type": "execute_result"
    }
   ],
   "source": [
    "data_types_mean_std_dict"
   ]
  },
  {
   "cell_type": "code",
   "execution_count": 22,
   "metadata": {},
   "outputs": [],
   "source": [
    "##==================== GET NORMALIZE IMAGES\n",
    "X_train_input = []\n",
    "X_train_target = []\n",
    "# X_train_target_whole = [] # 1 2 4\n",
    "# X_train_target_core = [] # 1 4\n",
    "# X_train_target_enhance = [] # 4\n",
    "\n",
    "X_dev_input = []\n",
    "X_dev_target = []\n",
    "# X_dev_target_whole = [] # 1 2 4x\n",
    "# X_dev_target_core = [] # 1 4\n",
    "# X_dev_target_enhance = [] # 4"
   ]
  },
  {
   "cell_type": "code",
   "execution_count": 23,
   "metadata": {},
   "outputs": [
    {
     "data": {
      "text/plain": [
       "['Brats18_CBICA_AQG_1',\n",
       " 'Brats18_CBICA_AQD_1',\n",
       " 'Brats18_CBICA_AQA_1',\n",
       " 'Brats18_CBICA_APZ_1',\n",
       " 'Brats18_CBICA_APY_1',\n",
       " 'Brats18_CBICA_APR_1',\n",
       " 'Brats18_CBICA_AOZ_1',\n",
       " 'Brats18_CBICA_AOP_1',\n",
       " 'Brats18_CBICA_AOO_1',\n",
       " 'Brats18_CBICA_AOH_1',\n",
       " 'Brats18_CBICA_AOD_1',\n",
       " 'Brats18_CBICA_ANZ_1',\n",
       " 'Brats18_CBICA_ANP_1',\n",
       " 'Brats18_CBICA_ANI_1',\n",
       " 'Brats18_CBICA_ANG_1',\n",
       " 'Brats18_CBICA_AMH_1',\n",
       " 'Brats18_CBICA_AME_1',\n",
       " 'Brats18_CBICA_ALX_1',\n",
       " 'Brats18_CBICA_ALU_1',\n",
       " 'Brats18_CBICA_ALN_1',\n",
       " 'Brats18_CBICA_ABY_1',\n",
       " 'Brats18_CBICA_ABO_1',\n",
       " 'Brats18_CBICA_ABN_1',\n",
       " 'Brats18_CBICA_ABM_1',\n",
       " 'Brats18_CBICA_ABE_1',\n",
       " 'Brats18_CBICA_ABB_1',\n",
       " 'Brats18_CBICA_AAP_1',\n",
       " 'Brats18_CBICA_AAL_1',\n",
       " 'Brats18_CBICA_AAG_1',\n",
       " 'Brats18_CBICA_AAB_1']"
      ]
     },
     "execution_count": 23,
     "metadata": {},
     "output_type": "execute_result"
    }
   ],
   "source": [
    "survival_id_dev_HGG"
   ]
  },
  {
   "cell_type": "code",
   "execution_count": 25,
   "metadata": {},
   "outputs": [
    {
     "name": "stdout",
     "output_type": "stream",
     "text": [
      " HGG Validation\n"
     ]
    },
    {
     "name": "stderr",
     "output_type": "stream",
     "text": [
      "/home/sangqle/.pyenv/versions/3.6.9/envs/unet/lib/python3.6/site-packages/ipykernel_launcher.py:6: DeprecationWarning: get_data() is deprecated in favor of get_fdata(), which has a more predictable return type. To obtain get_data() behavior going forward, use numpy.asanyarray(img.dataobj).\n",
      "\n",
      "* deprecated from version: 3.0\n",
      "* Will raise <class 'nibabel.deprecator.ExpiredDeprecationError'> as of version: 5.0\n",
      "  \n",
      "/home/sangqle/.pyenv/versions/3.6.9/envs/unet/lib/python3.6/site-packages/ipykernel_launcher.py:12: DeprecationWarning: get_data() is deprecated in favor of get_fdata(), which has a more predictable return type. To obtain get_data() behavior going forward, use numpy.asanyarray(img.dataobj).\n",
      "\n",
      "* deprecated from version: 3.0\n",
      "* Will raise <class 'nibabel.deprecator.ExpiredDeprecationError'> as of version: 5.0\n",
      "  if sys.path[0] == '':\n"
     ]
    },
    {
     "name": "stdout",
     "output_type": "stream",
     "text": [
      "finished Brats18_CBICA_AQG_1\n",
      "finished Brats18_CBICA_AQD_1\n",
      "finished Brats18_CBICA_AQA_1\n",
      "finished Brats18_CBICA_APZ_1\n",
      "finished Brats18_CBICA_APY_1\n",
      "finished Brats18_CBICA_APR_1\n",
      "finished Brats18_CBICA_AOZ_1\n",
      "finished Brats18_CBICA_AOP_1\n",
      "finished Brats18_CBICA_AOO_1\n",
      "finished Brats18_CBICA_AOH_1\n",
      "finished Brats18_CBICA_AOD_1\n",
      "finished Brats18_CBICA_ANZ_1\n",
      "finished Brats18_CBICA_ANP_1\n",
      "finished Brats18_CBICA_ANI_1\n",
      "finished Brats18_CBICA_ANG_1\n",
      "finished Brats18_CBICA_AMH_1\n",
      "finished Brats18_CBICA_AME_1\n",
      "finished Brats18_CBICA_ALX_1\n",
      "finished Brats18_CBICA_ALU_1\n",
      "finished Brats18_CBICA_ALN_1\n",
      "finished Brats18_CBICA_ABY_1\n",
      "finished Brats18_CBICA_ABO_1\n",
      "finished Brats18_CBICA_ABN_1\n",
      "finished Brats18_CBICA_ABM_1\n",
      "finished Brats18_CBICA_ABE_1\n",
      "finished Brats18_CBICA_ABB_1\n",
      "finished Brats18_CBICA_AAP_1\n",
      "finished Brats18_CBICA_AAL_1\n",
      "finished Brats18_CBICA_AAG_1\n",
      "finished Brats18_CBICA_AAB_1\n"
     ]
    }
   ],
   "source": [
    "print(\" HGG Validation\")\n",
    "for i in survival_id_dev_HGG:\n",
    "    all_3d_data = []\n",
    "    for j in data_types:\n",
    "        img_path = os.path.join(HGG_data_path, i, i + '_' + j + '.nii.gz')\n",
    "        img = nib.load(img_path).get_data()\n",
    "        img = (img - data_types_mean_std_dict[j]['mean']) / data_types_mean_std_dict[j]['std']\n",
    "        img = img.astype(np.float32)\n",
    "        all_3d_data.append(img)\n",
    "\n",
    "    seg_path = os.path.join(HGG_data_path, i, i + '_seg.nii.gz')\n",
    "    seg_img = nib.load(seg_path).get_data()\n",
    "    seg_img = np.transpose(seg_img, (1, 0, 2))\n",
    "    for j in range(all_3d_data[0].shape[2]):\n",
    "        combined_array = np.stack((all_3d_data[0][:, :, j], all_3d_data[1][:, :, j], all_3d_data[2][:, :, j], all_3d_data[3][:, :, j]), axis=2)\n",
    "        combined_array = np.transpose(combined_array, (1, 0, 2))#.tolist()\n",
    "        combined_array.astype(np.float32)\n",
    "        X_dev_input.append(combined_array)\n",
    "\n",
    "        seg_2d = seg_img[:, :, j]\n",
    "        # whole = np.zeros_like(seg_2d)\n",
    "        # core = np.zeros_like(seg_2d)\n",
    "        # enhance = np.zeros_like(seg_2d)\n",
    "        # for index, x in np.ndenumerate(seg_2d):\n",
    "        #     if x == 1:\n",
    "        #         whole[index] = 1\n",
    "        #         core[index] = 1\n",
    "        #     if x == 2:\n",
    "        #         whole[index] = 1\n",
    "        #     if x == 4:\n",
    "        #         whole[index] = 1\n",
    "        #         core[index] = 1\n",
    "        #         enhance[index] = 1\n",
    "        # X_dev_target_whole.append(whole)\n",
    "        # X_dev_target_core.append(core)\n",
    "        # X_dev_target_enhance.append(enhance)\n",
    "        seg_2d.astype(int)\n",
    "        X_dev_target.append(seg_2d)\n",
    "    del all_3d_data\n",
    "    gc.collect()\n",
    "    print(\"finished {}\".format(i))"
   ]
  },
  {
   "cell_type": "code",
   "execution_count": 26,
   "metadata": {},
   "outputs": [
    {
     "data": {
      "text/plain": [
       "30"
      ]
     },
     "execution_count": 26,
     "metadata": {},
     "output_type": "execute_result"
    }
   ],
   "source": [
    "len(survival_id_dev_HGG)"
   ]
  },
  {
   "cell_type": "code",
   "execution_count": 27,
   "metadata": {},
   "outputs": [
    {
     "name": "stdout",
     "output_type": "stream",
     "text": [
      " LGG Validation\n"
     ]
    },
    {
     "name": "stderr",
     "output_type": "stream",
     "text": [
      "/home/sangqle/.pyenv/versions/3.6.9/envs/unet/lib/python3.6/site-packages/ipykernel_launcher.py:6: DeprecationWarning: get_data() is deprecated in favor of get_fdata(), which has a more predictable return type. To obtain get_data() behavior going forward, use numpy.asanyarray(img.dataobj).\n",
      "\n",
      "* deprecated from version: 3.0\n",
      "* Will raise <class 'nibabel.deprecator.ExpiredDeprecationError'> as of version: 5.0\n",
      "  \n",
      "/home/sangqle/.pyenv/versions/3.6.9/envs/unet/lib/python3.6/site-packages/ipykernel_launcher.py:12: DeprecationWarning: get_data() is deprecated in favor of get_fdata(), which has a more predictable return type. To obtain get_data() behavior going forward, use numpy.asanyarray(img.dataobj).\n",
      "\n",
      "* deprecated from version: 3.0\n",
      "* Will raise <class 'nibabel.deprecator.ExpiredDeprecationError'> as of version: 5.0\n",
      "  if sys.path[0] == '':\n"
     ]
    },
    {
     "name": "stdout",
     "output_type": "stream",
     "text": [
      "finished Brats18_TCIA10_103_1\n",
      "finished Brats18_TCIA10_109_1\n",
      "finished Brats18_TCIA10_130_1\n",
      "finished Brats18_TCIA10_152_1\n",
      "finished Brats18_TCIA10_175_1\n",
      "finished Brats18_TCIA10_202_1\n",
      "finished Brats18_TCIA10_241_1\n",
      "finished Brats18_TCIA10_261_1\n",
      "finished Brats18_TCIA10_266_1\n",
      "finished Brats18_TCIA10_276_1\n"
     ]
    }
   ],
   "source": [
    "print(\" LGG Validation\")\n",
    "for i in survival_id_dev_LGG:\n",
    "    all_3d_data = []\n",
    "    for j in data_types:\n",
    "        img_path = os.path.join(LGG_data_path, i, i + '_' + j + '.nii.gz')\n",
    "        img = nib.load(img_path).get_data()\n",
    "        img = (img - data_types_mean_std_dict[j]['mean']) / data_types_mean_std_dict[j]['std']\n",
    "        img = img.astype(np.float32)\n",
    "        all_3d_data.append(img)\n",
    "\n",
    "    seg_path = os.path.join(LGG_data_path, i, i + '_seg.nii.gz')\n",
    "    seg_img = nib.load(seg_path).get_data()\n",
    "    seg_img = np.transpose(seg_img, (1, 0, 2))\n",
    "    for j in range(all_3d_data[0].shape[2]):\n",
    "        combined_array = np.stack((all_3d_data[0][:, :, j], all_3d_data[1][:, :, j], all_3d_data[2][:, :, j], all_3d_data[3][:, :, j]), axis=2)\n",
    "        combined_array = np.transpose(combined_array, (1, 0, 2))#.tolist()\n",
    "        combined_array.astype(np.float32)\n",
    "        X_dev_input.append(combined_array)\n",
    "\n",
    "        seg_2d = seg_img[:, :, j]\n",
    "        # whole = np.zeros_like(seg_2d)\n",
    "        # core = np.zeros_like(seg_2d)\n",
    "        # enhance = np.zeros_like(seg_2d)\n",
    "        # for index, x in np.ndenumerate(seg_2d):\n",
    "        #     if x == 1:\n",
    "        #         whole[index] = 1\n",
    "        #         core[index] = 1\n",
    "        #     if x == 2:\n",
    "        #         whole[index] = 1\n",
    "        #     if x == 4:\n",
    "        #         whole[index] = 1\n",
    "        #         core[index] = 1\n",
    "        #         enhance[index] = 1\n",
    "        # X_dev_target_whole.append(whole)\n",
    "        # X_dev_target_core.append(core)\n",
    "        # X_dev_target_enhance.append(enhance)\n",
    "        seg_2d.astype(int)\n",
    "        X_dev_target.append(seg_2d)\n",
    "    del all_3d_data\n",
    "    gc.collect()\n",
    "    print(\"finished {}\".format(i))"
   ]
  },
  {
   "cell_type": "code",
   "execution_count": 28,
   "metadata": {},
   "outputs": [],
   "source": [
    "X_dev_input = np.asarray(X_dev_input, dtype=np.float32)\n",
    "X_dev_target = np.asarray(X_dev_target)#, dtype=np.float32)"
   ]
  },
  {
   "cell_type": "code",
   "execution_count": 29,
   "metadata": {},
   "outputs": [
    {
     "data": {
      "text/plain": [
       "(6200, 240, 240, 4)"
      ]
     },
     "execution_count": 29,
     "metadata": {},
     "output_type": "execute_result"
    }
   ],
   "source": [
    "X_dev_input.shape"
   ]
  },
  {
   "cell_type": "code",
   "execution_count": 36,
   "metadata": {},
   "outputs": [
    {
     "ename": "NameError",
     "evalue": "name 'X_dev_target' is not defined",
     "output_type": "error",
     "traceback": [
      "\u001b[0;31m---------------------------------------------------------------------------\u001b[0m",
      "\u001b[0;31mNameError\u001b[0m                                 Traceback (most recent call last)",
      "\u001b[0;32m<ipython-input-36-95dec23f2167>\u001b[0m in \u001b[0;36m<module>\u001b[0;34m\u001b[0m\n\u001b[0;32m----> 1\u001b[0;31m \u001b[0mX_dev_target\u001b[0m\u001b[0;34m.\u001b[0m\u001b[0mshape\u001b[0m\u001b[0;34m\u001b[0m\u001b[0;34m\u001b[0m\u001b[0m\n\u001b[0m",
      "\u001b[0;31mNameError\u001b[0m: name 'X_dev_target' is not defined"
     ]
    }
   ],
   "source": [
    "X_dev_target.shape"
   ]
  },
  {
   "cell_type": "code",
   "execution_count": 31,
   "metadata": {},
   "outputs": [],
   "source": [
    "with open(save_dir + 'train_dev_input_half.pickle', 'wb') as f:\n",
    "    pickle.dump(X_dev_input, f, protocol=4)"
   ]
  },
  {
   "cell_type": "code",
   "execution_count": 32,
   "metadata": {},
   "outputs": [],
   "source": [
    "\n",
    "with open(save_dir + 'train_dev_target_half.pickle', 'wb') as f:\n",
    "    pickle.dump(X_dev_target, f, protocol=4)"
   ]
  },
  {
   "cell_type": "code",
   "execution_count": 35,
   "metadata": {},
   "outputs": [],
   "source": [
    "del X_dev_input\n",
    "del X_dev_target"
   ]
  },
  {
   "cell_type": "code",
   "execution_count": 33,
   "metadata": {},
   "outputs": [
    {
     "name": "stdout",
     "output_type": "stream",
     "text": [
      " HGG Train\n"
     ]
    },
    {
     "name": "stderr",
     "output_type": "stream",
     "text": [
      "/home/sangqle/.pyenv/versions/3.6.9/envs/unet/lib/python3.6/site-packages/ipykernel_launcher.py:6: DeprecationWarning: get_data() is deprecated in favor of get_fdata(), which has a more predictable return type. To obtain get_data() behavior going forward, use numpy.asanyarray(img.dataobj).\n",
      "\n",
      "* deprecated from version: 3.0\n",
      "* Will raise <class 'nibabel.deprecator.ExpiredDeprecationError'> as of version: 5.0\n",
      "  \n",
      "/home/sangqle/.pyenv/versions/3.6.9/envs/unet/lib/python3.6/site-packages/ipykernel_launcher.py:12: DeprecationWarning: get_data() is deprecated in favor of get_fdata(), which has a more predictable return type. To obtain get_data() behavior going forward, use numpy.asanyarray(img.dataobj).\n",
      "\n",
      "* deprecated from version: 3.0\n",
      "* Will raise <class 'nibabel.deprecator.ExpiredDeprecationError'> as of version: 5.0\n",
      "  if sys.path[0] == '':\n"
     ]
    },
    {
     "name": "stdout",
     "output_type": "stream",
     "text": [
      "finished Brats18_TCIA04_361_1\n",
      "155\n",
      "finished Brats18_TCIA03_133_1\n",
      "310\n",
      "finished Brats18_TCIA02_151_1\n",
      "465\n",
      "finished Brats18_TCIA02_331_1\n",
      "620\n",
      "finished Brats18_TCIA01_231_1\n",
      "775\n",
      "finished Brats18_2013_11_1\n",
      "930\n",
      "finished Brats18_2013_27_1\n",
      "1085\n",
      "finished Brats18_CBICA_AZD_1\n",
      "1240\n",
      "finished Brats18_CBICA_AXN_1\n",
      "1395\n",
      "finished Brats18_CBICA_AXM_1\n",
      "1550\n",
      "finished Brats18_CBICA_AXL_1\n",
      "1705\n",
      "finished Brats18_CBICA_AXJ_1\n",
      "1860\n",
      "finished Brats18_CBICA_AWI_1\n",
      "2015\n",
      "finished Brats18_CBICA_AWH_1\n",
      "2170\n",
      "finished Brats18_CBICA_AWG_1\n",
      "2325\n",
      "finished Brats18_CBICA_AVV_1\n",
      "2480\n",
      "finished Brats18_CBICA_AVJ_1\n",
      "2635\n",
      "finished Brats18_CBICA_AVG_1\n",
      "2790\n",
      "finished Brats18_CBICA_AUR_1\n",
      "2945\n",
      "finished Brats18_CBICA_AUQ_1\n",
      "3100\n",
      "finished Brats18_CBICA_AUN_1\n",
      "3255\n",
      "finished Brats18_CBICA_ATX_1\n",
      "3410\n",
      "finished Brats18_CBICA_ATV_1\n",
      "3565\n",
      "finished Brats18_CBICA_ATP_1\n",
      "3720\n",
      "finished Brats18_CBICA_ATF_1\n",
      "3875\n",
      "finished Brats18_CBICA_ATD_1\n",
      "4030\n",
      "finished Brats18_CBICA_ATB_1\n",
      "4185\n",
      "finished Brats18_CBICA_ASY_1\n",
      "4340\n",
      "finished Brats18_CBICA_ASW_1\n",
      "4495\n",
      "finished Brats18_CBICA_ASV_1\n",
      "4650\n",
      "finished Brats18_CBICA_ASU_1\n",
      "4805\n",
      "finished Brats18_CBICA_ASO_1\n",
      "4960\n",
      "finished Brats18_CBICA_ASN_1\n",
      "5115\n",
      "finished Brats18_CBICA_ASK_1\n",
      "5270\n",
      "finished Brats18_CBICA_ASH_1\n",
      "5425\n",
      "finished Brats18_CBICA_ASG_1\n",
      "5580\n",
      "finished Brats18_CBICA_ASE_1\n",
      "5735\n",
      "finished Brats18_CBICA_ASA_1\n",
      "5890\n",
      "finished Brats18_CBICA_ARZ_1\n",
      "6045\n",
      "finished Brats18_CBICA_ARW_1\n",
      "6200\n",
      "finished Brats18_CBICA_ARF_1\n",
      "6355\n",
      "finished Brats18_CBICA_AQZ_1\n",
      "6510\n",
      "finished Brats18_CBICA_AQY_1\n",
      "6665\n",
      "finished Brats18_CBICA_AQV_1\n",
      "6820\n",
      "finished Brats18_CBICA_AQU_1\n",
      "6975\n",
      "finished Brats18_CBICA_AQT_1\n",
      "7130\n",
      "finished Brats18_CBICA_AQR_1\n",
      "7285\n",
      "finished Brats18_CBICA_AQQ_1\n",
      "7440\n",
      "finished Brats18_CBICA_AQP_1\n",
      "7595\n",
      "finished Brats18_CBICA_AQO_1\n",
      "7750\n",
      "finished Brats18_CBICA_AQN_1\n",
      "7905\n",
      "finished Brats18_CBICA_AQJ_1\n",
      "8060\n"
     ]
    }
   ],
   "source": [
    "print(\" HGG Train\")\n",
    "for i in survival_id_tr_HGG:\n",
    "    all_3d_data = []\n",
    "    for j in data_types:\n",
    "        img_path = os.path.join(HGG_data_path, i, i + '_' + j + '.nii.gz')\n",
    "        img = nib.load(img_path).get_data()\n",
    "        img = (img - data_types_mean_std_dict[j]['mean']) / data_types_mean_std_dict[j]['std']\n",
    "        img = img.astype(np.float32)\n",
    "        all_3d_data.append(img)\n",
    "\n",
    "    seg_path = os.path.join(HGG_data_path, i, i + '_seg.nii.gz')\n",
    "    seg_img = nib.load(seg_path).get_data()\n",
    "    seg_img = np.transpose(seg_img, (1, 0, 2))\n",
    "    for j in range(all_3d_data[0].shape[2]):\n",
    "        combined_array = np.stack((all_3d_data[0][:, :, j], all_3d_data[1][:, :, j], all_3d_data[2][:, :, j], all_3d_data[3][:, :, j]), axis=2)\n",
    "        combined_array = np.transpose(combined_array, (1, 0, 2))#.tolist()\n",
    "        combined_array.astype(np.float32)\n",
    "        X_train_input.append(combined_array)\n",
    "\n",
    "        seg_2d = seg_img[:, :, j]\n",
    "        # whole = np.zeros_like(seg_2d)\n",
    "        # core = np.zeros_like(seg_2d)\n",
    "        # enhance = np.zeros_like(seg_2d)\n",
    "        # for index, x in np.ndenumerate(seg_2d):\n",
    "        #     if x == 1:\n",
    "        #         whole[index] = 1\n",
    "        #         core[index] = 1\n",
    "        #     if x == 2:\n",
    "        #         whole[index] = 1\n",
    "        #     if x == 4:\n",
    "        #         whole[index] = 1\n",
    "        #         core[index] = 1\n",
    "        #         enhance[index] = 1\n",
    "        # X_train_target_whole.append(whole)\n",
    "        # X_train_target_core.append(core)\n",
    "        # X_train_target_enhance.append(enhance)\n",
    "        seg_2d.astype(int)\n",
    "        X_train_target.append(seg_2d)\n",
    "    del all_3d_data\n",
    "    print(\"finished {}\".format(i))\n",
    "    print(len(X_train_target))"
   ]
  },
  {
   "cell_type": "code",
   "execution_count": 34,
   "metadata": {},
   "outputs": [
    {
     "name": "stdout",
     "output_type": "stream",
     "text": [
      " LGG Train\n"
     ]
    },
    {
     "name": "stderr",
     "output_type": "stream",
     "text": [
      "/home/sangqle/.pyenv/versions/3.6.9/envs/unet/lib/python3.6/site-packages/ipykernel_launcher.py:6: DeprecationWarning: get_data() is deprecated in favor of get_fdata(), which has a more predictable return type. To obtain get_data() behavior going forward, use numpy.asanyarray(img.dataobj).\n",
      "\n",
      "* deprecated from version: 3.0\n",
      "* Will raise <class 'nibabel.deprecator.ExpiredDeprecationError'> as of version: 5.0\n",
      "  \n",
      "/home/sangqle/.pyenv/versions/3.6.9/envs/unet/lib/python3.6/site-packages/ipykernel_launcher.py:12: DeprecationWarning: get_data() is deprecated in favor of get_fdata(), which has a more predictable return type. To obtain get_data() behavior going forward, use numpy.asanyarray(img.dataobj).\n",
      "\n",
      "* deprecated from version: 3.0\n",
      "* Will raise <class 'nibabel.deprecator.ExpiredDeprecationError'> as of version: 5.0\n",
      "  if sys.path[0] == '':\n"
     ]
    },
    {
     "name": "stdout",
     "output_type": "stream",
     "text": [
      "finished Brats18_2013_0_1\n",
      "finished Brats18_2013_15_1\n",
      "finished Brats18_2013_16_1\n",
      "finished Brats18_2013_1_1\n",
      "finished Brats18_2013_24_1\n",
      "finished Brats18_2013_28_1\n",
      "finished Brats18_2013_29_1\n",
      "finished Brats18_2013_6_1\n",
      "finished Brats18_2013_8_1\n",
      "finished Brats18_2013_9_1\n",
      "finished Brats18_TCIA09_141_1\n",
      "finished Brats18_TCIA09_177_1\n",
      "finished Brats18_TCIA09_254_1\n",
      "finished Brats18_TCIA09_255_1\n",
      "finished Brats18_TCIA09_312_1\n",
      "finished Brats18_TCIA09_402_1\n",
      "finished Brats18_TCIA09_451_1\n",
      "finished Brats18_TCIA09_462_1\n",
      "finished Brats18_TCIA09_493_1\n",
      "finished Brats18_TCIA09_620_1\n"
     ]
    }
   ],
   "source": [
    "print(\" LGG Train\")\n",
    "for i in survival_id_tr_LGG:\n",
    "    all_3d_data = []\n",
    "    for j in data_types:\n",
    "        img_path = os.path.join(LGG_data_path, i, i + '_' + j + '.nii.gz')\n",
    "        img = nib.load(img_path).get_data()\n",
    "        img = (img - data_types_mean_std_dict[j]['mean']) / data_types_mean_std_dict[j]['std']\n",
    "        img = img.astype(np.float32)\n",
    "        all_3d_data.append(img)\n",
    "\n",
    "    seg_path = os.path.join(LGG_data_path, i, i + '_seg.nii.gz')\n",
    "    seg_img = nib.load(seg_path).get_data()\n",
    "    seg_img = np.transpose(seg_img, (1, 0, 2))\n",
    "    for j in range(all_3d_data[0].shape[2]):\n",
    "        combined_array = np.stack((all_3d_data[0][:, :, j], all_3d_data[1][:, :, j], all_3d_data[2][:, :, j], all_3d_data[3][:, :, j]), axis=2)\n",
    "        combined_array = np.transpose(combined_array, (1, 0, 2))#.tolist()\n",
    "        combined_array.astype(np.float32)\n",
    "        X_train_input.append(combined_array)\n",
    "\n",
    "        seg_2d = seg_img[:, :, j]\n",
    "        # whole = np.zeros_like(seg_2d)\n",
    "        # core = np.zeros_like(seg_2d)\n",
    "        # enhance = np.zeros_like(seg_2d)\n",
    "        # for index, x in np.ndenumerate(seg_2d):\n",
    "        #     if x == 1:\n",
    "        #         whole[index] = 1\n",
    "        #         core[index] = 1\n",
    "        #     if x == 2:\n",
    "        #         whole[index] = 1\n",
    "        #     if x == 4:\n",
    "        #         whole[index] = 1\n",
    "        #         core[index] = 1\n",
    "        #         enhance[index] = 1\n",
    "        # X_train_target_whole.append(whole)\n",
    "        # X_train_target_core.append(core)\n",
    "        # X_train_target_enhance.append(enhance)\n",
    "        seg_2d.astype(int)\n",
    "        X_train_target.append(seg_2d)\n",
    "    del all_3d_data\n",
    "    print(\"finished {}\".format(i))"
   ]
  },
  {
   "cell_type": "code",
   "execution_count": 32,
   "metadata": {},
   "outputs": [],
   "source": [
    "X_train_input = np.asarray(X_train_input, dtype=np.float32)\n",
    "X_train_target = np.asarray(X_train_target)#, dtype=np.float32)"
   ]
  },
  {
   "cell_type": "code",
   "execution_count": 37,
   "metadata": {},
   "outputs": [],
   "source": [
    "X_train_input = np.asarray(X_train_input, dtype=np.float32)"
   ]
  },
  {
   "cell_type": "code",
   "execution_count": 38,
   "metadata": {},
   "outputs": [
    {
     "data": {
      "text/plain": [
       "(11160, 240, 240, 4)"
      ]
     },
     "execution_count": 38,
     "metadata": {},
     "output_type": "execute_result"
    }
   ],
   "source": [
    "X_train_input.shape"
   ]
  },
  {
   "cell_type": "code",
   "execution_count": null,
   "metadata": {},
   "outputs": [],
   "source": [
    "with open(save_dir + 'train_input_half.pickle', 'wb') as f:\n",
    "    pickle.dump(X_train_input, f, protocol=4)"
   ]
  },
  {
   "cell_type": "code",
   "execution_count": null,
   "metadata": {},
   "outputs": [],
   "source": [
    "with open(save_dir + 'train_target.pickle', 'wb') as f:\n",
    "    pickle.dump(X_train_target, f, protocol=4)"
   ]
  },
  {
   "cell_type": "code",
   "execution_count": 77,
   "metadata": {},
   "outputs": [],
   "source": [
    "x1 = X_train_input[100]"
   ]
  },
  {
   "cell_type": "code",
   "execution_count": 78,
   "metadata": {},
   "outputs": [],
   "source": [
    "img = x1[:,:,0]"
   ]
  },
  {
   "cell_type": "code",
   "execution_count": 79,
   "metadata": {},
   "outputs": [
    {
     "data": {
      "text/plain": [
       "(240, 240)"
      ]
     },
     "execution_count": 79,
     "metadata": {},
     "output_type": "execute_result"
    }
   ],
   "source": [
    "img.shape"
   ]
  },
  {
   "cell_type": "code",
   "execution_count": 65,
   "metadata": {},
   "outputs": [],
   "source": [
    "import matplotlib.pyplot as plt"
   ]
  },
  {
   "cell_type": "code",
   "execution_count": 80,
   "metadata": {},
   "outputs": [
    {
     "data": {
      "text/plain": [
       "<matplotlib.image.AxesImage at 0x7fd32013b5f8>"
      ]
     },
     "execution_count": 80,
     "metadata": {},
     "output_type": "execute_result"
    },
    {
     "data": {
      "image/png": "[encoded data removed]",
      "text/plain": [
       "<Figure size 432x288 with 1 Axes>"
      ]
     },
     "metadata": {
      "needs_background": "light"
     },
     "output_type": "display_data"
    }
   ],
   "source": [
    "plt.imshow(img)"
   ]
  },
  {
   "cell_type": "code",
   "execution_count": 81,
   "metadata": {},
   "outputs": [],
   "source": [
    "y1 = X_train_target[100]\n",
    "# seg = y1[:,:,0]\n",
    "# plt.imshow(seg)"
   ]
  },
  {
   "cell_type": "code",
   "execution_count": 75,
   "metadata": {},
   "outputs": [
    {
     "data": {
      "text/plain": [
       "(240, 240)"
      ]
     },
     "execution_count": 75,
     "metadata": {},
     "output_type": "execute_result"
    }
   ],
   "source": [
    "y1.shape"
   ]
  },
  {
   "cell_type": "code",
   "execution_count": 82,
   "metadata": {},
   "outputs": [
    {
     "data": {
      "text/plain": [
       "<matplotlib.image.AxesImage at 0x7fd3203a7320>"
      ]
     },
     "execution_count": 82,
     "metadata": {},
     "output_type": "execute_result"
    },
    {
     "data": {
      "image/png": "[encoded data removed]",
      "text/plain": [
       "<Figure size 432x288 with 1 Axes>"
      ]
     },
     "metadata": {
      "needs_background": "light"
     },
     "output_type": "display_data"
    }
   ],
   "source": [
    "plt.imshow(y1)"
   ]
  },
  {
   "cell_type": "code",
   "execution_count": 71,
   "metadata": {},
   "outputs": [
    {
     "data": {
      "text/plain": [
       "(5115, 240, 240)"
      ]
     },
     "execution_count": 71,
     "metadata": {},
     "output_type": "execute_result"
    }
   ],
   "source": [
    "X_train_target.shape\n"
   ]
  },
  {
   "cell_type": "code",
   "execution_count": 35,
   "metadata": {},
   "outputs": [],
   "source": []
  },
  {
   "cell_type": "code",
   "execution_count": 85,
   "metadata": {},
   "outputs": [],
   "source": []
  },
  {
   "cell_type": "code",
   "execution_count": 36,
   "metadata": {},
   "outputs": [],
   "source": [
    "import tensorflow as tf\n",
    "import tensorlayer as tl\n",
    "from tensorlayer.layers import *\n",
    "import numpy as np\n",
    "\n",
    "\n",
    "from tensorlayer.layers import *\n",
    "\n",
    "def u_net(x, is_train=False, reuse=False, n_out=1):\n",
    "    _, nx, ny, nz = x.get_shape().as_list()\n",
    "    with tf.variable_scope(\"u_net\", reuse=reuse):\n",
    "        tl.layers.set_name_reuse(reuse)\n",
    "        inputs = InputLayer(x, name='inputs')\n",
    "        conv1 = Conv2d(inputs, 64, (3, 3), act=tf.nn.relu, name='conv1_1')\n",
    "        conv1 = Conv2d(conv1, 64, (3, 3), act=tf.nn.relu, name='conv1_2')\n",
    "        pool1 = MaxPool2d(conv1, (2, 2), name='pool1')\n",
    "        conv2 = Conv2d(pool1, 128, (3, 3), act=tf.nn.relu, name='conv2_1')\n",
    "        conv2 = Conv2d(conv2, 128, (3, 3), act=tf.nn.relu, name='conv2_2')\n",
    "        pool2 = MaxPool2d(conv2, (2, 2), name='pool2')\n",
    "        conv3 = Conv2d(pool2, 256, (3, 3), act=tf.nn.relu, name='conv3_1')\n",
    "        conv3 = Conv2d(conv3, 256, (3, 3), act=tf.nn.relu, name='conv3_2')\n",
    "        pool3 = MaxPool2d(conv3, (2, 2), name='pool3')\n",
    "        conv4 = Conv2d(pool3, 512, (3, 3), act=tf.nn.relu, name='conv4_1')\n",
    "        conv4 = Conv2d(conv4, 512, (3, 3), act=tf.nn.relu, name='conv4_2')\n",
    "        pool4 = MaxPool2d(conv4, (2, 2), name='pool4')\n",
    "        conv5 = Conv2d(pool4, 1024, (3, 3), act=tf.nn.relu, name='conv5_1')\n",
    "        conv5 = Conv2d(conv5, 1024, (3, 3), act=tf.nn.relu, name='conv5_2')\n",
    "\n",
    "        up4 = DeConv2d(conv5, 512, (3, 3), (nx/8, ny/8), (2, 2), name='deconv4')\n",
    "        up4 = ConcatLayer([up4, conv4], 3, name='concat4')\n",
    "        conv4 = Conv2d(up4, 512, (3, 3), act=tf.nn.relu, name='uconv4_1')\n",
    "        conv4 = Conv2d(conv4, 512, (3, 3), act=tf.nn.relu, name='uconv4_2')\n",
    "        up3 = DeConv2d(conv4, 256, (3, 3), (nx/4, ny/4), (2, 2), name='deconv3')\n",
    "        up3 = ConcatLayer([up3, conv3], 3, name='concat3')\n",
    "        conv3 = Conv2d(up3, 256, (3, 3), act=tf.nn.relu, name='uconv3_1')\n",
    "        conv3 = Conv2d(conv3, 256, (3, 3), act=tf.nn.relu, name='uconv3_2')\n",
    "        up2 = DeConv2d(conv3, 128, (3, 3), (nx/2, ny/2), (2, 2), name='deconv2')\n",
    "        up2 = ConcatLayer([up2, conv2], 3, name='concat2')\n",
    "        conv2 = Conv2d(up2, 128, (3, 3), act=tf.nn.relu,  name='uconv2_1')\n",
    "        conv2 = Conv2d(conv2, 128, (3, 3), act=tf.nn.relu, name='uconv2_2')\n",
    "        up1 = DeConv2d(conv2, 64, (3, 3), (nx/1, ny/1), (2, 2), name='deconv1')\n",
    "        up1 = ConcatLayer([up1, conv1] , 3, name='concat1')\n",
    "        conv1 = Conv2d(up1, 64, (3, 3), act=tf.nn.relu, name='uconv1_1')\n",
    "        conv1 = Conv2d(conv1, 64, (3, 3), act=tf.nn.relu, name='uconv1_2')\n",
    "        conv1 = Conv2d(conv1, n_out, (1, 1), act=tf.nn.sigmoid, name='uconv1')\n",
    "    return conv1\n",
    "\n",
    "def u_net_bn(x, is_train=False, reuse=False, batch_size=None, pad='SAME', n_out=1):\n",
    "    \"\"\"image to image translation via conditional adversarial learning\"\"\"\n",
    "    nx = int(x._shape[1])\n",
    "    ny = int(x._shape[2])\n",
    "    nz = int(x._shape[3])\n",
    "    print(\" * Input: size of image: %d %d %d\" % (nx, ny, nz))\n",
    "\n",
    "    w_init = tf.truncated_normal_initializer(stddev=0.01)\n",
    "    b_init = tf.constant_initializer(value=0.0)\n",
    "    gamma_init=tf.random_normal_initializer(1., 0.02)\n",
    "    with tf.variable_scope(\"u_net\", reuse=reuse):\n",
    "        tl.layers.set_name_reuse(reuse)\n",
    "        inputs = InputLayer(x, name='inputs')\n",
    "\n",
    "        conv1 = Conv2d(inputs, 64, (4, 4), (2, 2), act=None, padding=pad, W_init=w_init, b_init=b_init, name='conv1')\n",
    "        conv2 = Conv2d(conv1, 128, (4, 4), (2, 2), act=None, padding=pad, W_init=w_init, b_init=b_init, name='conv2')\n",
    "        conv2 = BatchNormLayer(conv2, act=lambda x: tl.act.lrelu(x, 0.2), is_train=is_train, gamma_init=gamma_init, name='bn2')\n",
    "\n",
    "        conv3 = Conv2d(conv2, 256, (4, 4), (2, 2), act=None, padding=pad, W_init=w_init, b_init=b_init, name='conv3')\n",
    "        conv3 = BatchNormLayer(conv3, act=lambda x: tl.act.lrelu(x, 0.2), is_train=is_train, gamma_init=gamma_init, name='bn3')\n",
    "\n",
    "        conv4 = Conv2d(conv3, 512, (4, 4), (2, 2), act=None, padding=pad, W_init=w_init, b_init=b_init, name='conv4')\n",
    "        conv4 = BatchNormLayer(conv4, act=lambda x: tl.act.lrelu(x, 0.2), is_train=is_train, gamma_init=gamma_init, name='bn4')\n",
    "\n",
    "        conv5 = Conv2d(conv4, 512, (4, 4), (2, 2), act=None, padding=pad, W_init=w_init, b_init=b_init, name='conv5')\n",
    "        conv5 = BatchNormLayer(conv5, act=lambda x: tl.act.lrelu(x, 0.2), is_train=is_train, gamma_init=gamma_init, name='bn5')\n",
    "\n",
    "        conv6 = Conv2d(conv5, 512, (4, 4), (2, 2), act=None, padding=pad, W_init=w_init, b_init=b_init, name='conv6')\n",
    "        conv6 = BatchNormLayer(conv6, act=lambda x: tl.act.lrelu(x, 0.2), is_train=is_train, gamma_init=gamma_init, name='bn6')\n",
    "\n",
    "        conv7 = Conv2d(conv6, 512, (4, 4), (2, 2), act=None, padding=pad, W_init=w_init, b_init=b_init, name='conv7')\n",
    "        conv7 = BatchNormLayer(conv7, act=lambda x: tl.act.lrelu(x, 0.2), is_train=is_train, gamma_init=gamma_init, name='bn7')\n",
    "\n",
    "        conv8 = Conv2d(conv7, 512, (4, 4), (2, 2), act=lambda x: tl.act.lrelu(x, 0.2), padding=pad, W_init=w_init, b_init=b_init, name='conv8')\n",
    "        print(\" * After conv: %s\" % conv8.outputs)\n",
    "        # exit()\n",
    "        # print(nx/8)\n",
    "        up7 = DeConv2d(conv8, 512, (4, 4), out_size=(2, 2), strides=(2, 2),\n",
    "                                    padding=pad, act=None, batch_size=batch_size, W_init=w_init, b_init=b_init, name='deconv7')\n",
    "        up7 = BatchNormLayer(up7, act=tf.nn.relu, is_train=is_train, gamma_init=gamma_init, name='dbn7')\n",
    "\n",
    "        # print(up6.outputs)\n",
    "        up6 = ConcatLayer([up7, conv7], concat_dim=3, name='concat6')\n",
    "        up6 = DeConv2d(up6, 1024, (4, 4), out_size=(4, 4), strides=(2, 2),\n",
    "                                    padding=pad, act=None, batch_size=batch_size, W_init=w_init, b_init=b_init, name='deconv6')\n",
    "        up6 = BatchNormLayer(up6, act=tf.nn.relu, is_train=is_train, gamma_init=gamma_init, name='dbn6')\n",
    "        # print(up6.outputs)\n",
    "        # exit()\n",
    "\n",
    "        up5 = ConcatLayer([up6, conv6], concat_dim=3, name='concat5')\n",
    "        up5 = DeConv2d(up5, 1024, (4, 4), out_size=(8, 8), strides=(2, 2),\n",
    "                                    padding=pad, act=None, batch_size=batch_size, W_init=w_init, b_init=b_init, name='deconv5')\n",
    "        up5 = BatchNormLayer(up5, act=tf.nn.relu, is_train=is_train, gamma_init=gamma_init, name='dbn5')\n",
    "        # print(up5.outputs)\n",
    "        # exit()\n",
    "\n",
    "        up4 = ConcatLayer([up5, conv5] ,concat_dim=3, name='concat4')\n",
    "        up4 = DeConv2d(up4, 1024, (4, 4), out_size=(15, 15), strides=(2, 2),\n",
    "                                    padding=pad, act=None, batch_size=batch_size, W_init=w_init, b_init=b_init, name='deconv4')\n",
    "        up4 = BatchNormLayer(up4, act=tf.nn.relu, is_train=is_train, gamma_init=gamma_init, name='dbn4')\n",
    "\n",
    "        up3 = ConcatLayer([up4, conv4] ,concat_dim=3, name='concat3')\n",
    "        up3 = DeConv2d(up3, 256, (4, 4), out_size=(30, 30), strides=(2, 2),\n",
    "                                    padding=pad, act=None, batch_size=batch_size, W_init=w_init, b_init=b_init, name='deconv3')\n",
    "        up3 = BatchNormLayer(up3, act=tf.nn.relu, is_train=is_train, gamma_init=gamma_init, name='dbn3')\n",
    "\n",
    "        up2 = ConcatLayer([up3, conv3] ,concat_dim=3, name='concat2')\n",
    "        up2 = DeConv2d(up2, 128, (4, 4), out_size=(60, 60), strides=(2, 2),\n",
    "                                    padding=pad, act=None, batch_size=batch_size, W_init=w_init, b_init=b_init, name='deconv2')\n",
    "        up2 = BatchNormLayer(up2, act=tf.nn.relu, is_train=is_train, gamma_init=gamma_init, name='dbn2')\n",
    "\n",
    "        up1 = ConcatLayer([up2, conv2] ,concat_dim=3, name='concat1')\n",
    "        up1 = DeConv2d(up1, 64, (4, 4), out_size=(120, 120), strides=(2, 2),\n",
    "                                    padding=pad, act=None, batch_size=batch_size, W_init=w_init, b_init=b_init, name='deconv1')\n",
    "        up1 = BatchNormLayer(up1, act=tf.nn.relu, is_train=is_train, gamma_init=gamma_init, name='dbn1')\n",
    "\n",
    "        up0 = ConcatLayer([up1, conv1] ,concat_dim=3, name='concat0')\n",
    "        up0 = DeConv2d(up0, 64, (4, 4), out_size=(240, 240), strides=(2, 2),\n",
    "                                    padding=pad, act=None, batch_size=batch_size, W_init=w_init, b_init=b_init, name='deconv0')\n",
    "        up0 = BatchNormLayer(up0, act=tf.nn.relu, is_train=is_train, gamma_init=gamma_init, name='dbn0')\n",
    "        # print(up0.outputs)\n",
    "        # exit()\n",
    "\n",
    "        out = Conv2d(up0, n_out, (1, 1), act=tf.nn.sigmoid, name='out')\n",
    "\n",
    "        print(\" * Output: %s\" % out.outputs)\n",
    "        # exit()\n",
    "\n",
    "    return out\n"
   ]
  },
  {
   "cell_type": "code",
   "execution_count": 37,
   "metadata": {},
   "outputs": [],
   "source": [
    "def distort_imgs(data):\n",
    "    \"\"\" data augumentation \"\"\"\n",
    "    x1, x2, x3, x4, y = data\n",
    "    # x1, x2, x3, x4, y = tl.prepro.flip_axis_multi([x1, x2, x3, x4, y],  # previous without this, hard-dice=83.7\n",
    "    #                         axis=0, is_random=True) # up down\n",
    "    x1, x2, x3, x4, y = tl.prepro.flip_axis_multi([x1, x2, x3, x4, y],\n",
    "                            axis=1, is_random=True) # left right\n",
    "    x1, x2, x3, x4, y = tl.prepro.elastic_transform_multi([x1, x2, x3, x4, y],\n",
    "                            alpha=720, sigma=24, is_random=True)\n",
    "    x1, x2, x3, x4, y = tl.prepro.rotation_multi([x1, x2, x3, x4, y], rg=20,\n",
    "                            is_random=True, fill_mode='constant') # nearest, constant\n",
    "    x1, x2, x3, x4, y = tl.prepro.shift_multi([x1, x2, x3, x4, y], wrg=0.10,\n",
    "                            hrg=0.10, is_random=True, fill_mode='constant')\n",
    "    x1, x2, x3, x4, y = tl.prepro.shear_multi([x1, x2, x3, x4, y], 0.05,\n",
    "                            is_random=True, fill_mode='constant')\n",
    "    x1, x2, x3, x4, y = tl.prepro.zoom_multi([x1, x2, x3, x4, y],\n",
    "                            zoom_range=[0.9, 1.1], is_random=True,\n",
    "                            fill_mode='constant')\n",
    "    return x1, x2, x3, x4, y"
   ]
  },
  {
   "cell_type": "code",
   "execution_count": 38,
   "metadata": {},
   "outputs": [],
   "source": [
    "def vis_imgs(X, y, path):\n",
    "    \"\"\" show one slice \"\"\"\n",
    "    if y.ndim == 2:\n",
    "        y = y[:,:,np.newaxis]\n",
    "    assert X.ndim == 3\n",
    "    tl.vis.save_images(np.asarray([X[:,:,0,np.newaxis],\n",
    "        X[:,:,1,np.newaxis], X[:,:,2,np.newaxis],\n",
    "        X[:,:,3,np.newaxis], y]), size=(1, 5),\n",
    "        image_path=path)\n",
    "\n",
    "def vis_imgs2(X, y_, y, path):\n",
    "    \"\"\" show one slice with target \"\"\"\n",
    "    if y.ndim == 2:\n",
    "        y = y[:,:,np.newaxis]\n",
    "    if y_.ndim == 2:\n",
    "        y_ = y_[:,:,np.newaxis]\n",
    "    assert X.ndim == 3\n",
    "    tl.vis.save_images(np.asarray([X[:,:,0,np.newaxis],\n",
    "        X[:,:,1,np.newaxis], X[:,:,2,np.newaxis],\n",
    "        X[:,:,3,np.newaxis], y_, y]), size=(1, 6),\n",
    "        image_path=path)"
   ]
  },
  {
   "cell_type": "code",
   "execution_count": 39,
   "metadata": {},
   "outputs": [],
   "source": [
    "def main(task='all'):\n",
    "    ## Create folder to save trained model and result images\n",
    "    save_dir = \"checkpoint\"\n",
    "    tl.files.exists_or_mkdir(save_dir)\n",
    "    tl.files.exists_or_mkdir(\"samples/{}\".format(task))\n",
    "\n",
    "    ###======================== LOAD DATA ===================================###\n",
    "    ## by importing this, you can load a training set and a validation set.\n",
    "    # you will get X_train_input, X_train_target, X_dev_input and X_dev_target\n",
    "    # there are 4 labels in targets:\n",
    "    # Label 0: background\n",
    "    # Label 1: necrotic and non-enhancing tumor\n",
    "    # Label 2: edema\n",
    "    # Label 4: enhancing tumor\n",
    "#     import prepare_data_with_valid as dataset\n",
    "    X_train = X_train_input\n",
    "    y_train = X_train_target[:,:,:,np.newaxis]\n",
    "    X_test = X_dev_input\n",
    "    y_test = X_dev_target[:,:,:,np.newaxis]\n",
    "\n",
    "    if task == 'all':\n",
    "        y_train = (y_train > 0).astype(int)\n",
    "        y_test = (y_test > 0).astype(int)\n",
    "    elif task == 'necrotic':\n",
    "        y_train = (y_train == 1).astype(int)\n",
    "        y_test = (y_test == 1).astype(int)\n",
    "    elif task == 'edema':\n",
    "        y_train = (y_train == 2).astype(int)\n",
    "        y_test = (y_test == 2).astype(int)\n",
    "    elif task == 'enhance':\n",
    "        y_train = (y_train == 4).astype(int)\n",
    "        y_test = (y_test == 4).astype(int)\n",
    "    else:\n",
    "        exit(\"Unknow task %s\" % task)\n",
    "\n",
    "    ###======================== HYPER-PARAMETERS ============================###\n",
    "    batch_size = 10\n",
    "    lr = 0.0001 \n",
    "    # lr_decay = 0.5\n",
    "    # decay_every = 100\n",
    "    beta1 = 0.9\n",
    "    n_epoch = 100\n",
    "    print_freq_step = 100\n",
    "\n",
    "    ###======================== SHOW DATA ===================================###\n",
    "    # show one slice\n",
    "    X = np.asarray(X_train[80])\n",
    "    y = np.asarray(y_train[80])\n",
    "    # print(X.shape, X.min(), X.max()) # (240, 240, 4) -0.380588 2.62761\n",
    "    # print(y.shape, y.min(), y.max()) # (240, 240, 1) 0 1\n",
    "    nw, nh, nz = X.shape\n",
    "#     vis_imgs(X, y, 'samples/{}/_train_im.png'.format(task))\n",
    "    # show data augumentation results\n",
    "    for i in range(10):\n",
    "        x_flair, x_t1, x_t1ce, x_t2, label = distort_imgs([X[:,:,0,np.newaxis], X[:,:,1,np.newaxis],\n",
    "                X[:,:,2,np.newaxis], X[:,:,3,np.newaxis], y])#[:,:,np.newaxis]])\n",
    "        # print(x_flair.shape, x_t1.shape, x_t1ce.shape, x_t2.shape, label.shape) # (240, 240, 1) (240, 240, 1) (240, 240, 1) (240, 240, 1) (240, 240, 1)\n",
    "        X_dis = np.concatenate((x_flair, x_t1, x_t1ce, x_t2), axis=2)\n",
    "        # print(X_dis.shape, X_dis.min(), X_dis.max()) # (240, 240, 4) -0.380588233471 2.62376139209\n",
    "#         vis_imgs(X_dis, label, 'samples/{}/_train_im_aug{}.png'.format(task, i))\n",
    "\n",
    "    with tf.device('/cpu:0'):\n",
    "        sess = tf.Session(config=tf.ConfigProto(allow_soft_placement=True))\n",
    "        with tf.device('/gpu:0'): #<- remove it if you train on CPU or other GPU\n",
    "            ###======================== DEFIINE MODEL =======================###\n",
    "            ## nz is 4 as we input all Flair, T1, T1c and T2.\n",
    "            t_image = tf.placeholder('float32', [batch_size, nw, nh, nz], name='input_image')\n",
    "            ## labels are either 0 or 1\n",
    "            t_seg = tf.placeholder('float32', [batch_size, nw, nh, 1], name='target_segment')\n",
    "            ## train inference\n",
    "            net = u_net(t_image, is_train=True, reuse=False, n_out=1)\n",
    "            ## test inference\n",
    "            net_test = u_net(t_image, is_train=False, reuse=True, n_out=1)\n",
    "\n",
    "            ###======================== DEFINE LOSS =========================###\n",
    "            ## train losses\n",
    "            out_seg = net.outputs\n",
    "            dice_loss = 1 - tl.cost.dice_coe(out_seg, t_seg, axis=[0,1,2,3])#, 'jaccard', epsilon=1e-5)\n",
    "            iou_loss = tl.cost.iou_coe(out_seg, t_seg, axis=[0,1,2,3])\n",
    "            dice_hard = tl.cost.dice_hard_coe(out_seg, t_seg, axis=[0,1,2,3])\n",
    "            loss = dice_loss\n",
    "\n",
    "            ## test losses\n",
    "            test_out_seg = net_test.outputs\n",
    "            test_dice_loss = 1 - tl.cost.dice_coe(test_out_seg, t_seg, axis=[0,1,2,3])#, 'jaccard', epsilon=1e-5)\n",
    "            test_iou_loss = tl.cost.iou_coe(test_out_seg, t_seg, axis=[0,1,2,3])\n",
    "            test_dice_hard = tl.cost.dice_hard_coe(test_out_seg, t_seg, axis=[0,1,2,3])\n",
    "\n",
    "        ###======================== DEFINE TRAIN OPTS =======================###\n",
    "        t_vars = tl.layers.get_variables_with_name('u_net', True, True)\n",
    "        with tf.device('/gpu:0'):\n",
    "            with tf.variable_scope('learning_rate'):\n",
    "                lr_v = tf.Variable(lr, trainable=False)\n",
    "            train_op = tf.train.AdamOptimizer(lr_v, beta1=beta1).minimize(loss, var_list=t_vars)\n",
    "\n",
    "        ###======================== LOAD MODEL ==============================###\n",
    "#         tl.layers.initialize_global_variables(sess)\n",
    "#         ## load existing model if possible\n",
    "#         tl.files.load_and_assign_npz(sess=sess, name=save_dir+'/u_net_{}.npz'.format(task), network=net)\n",
    "\n",
    "        ###======================== TRAINING ================================###\n",
    "    for epoch in range(0, n_epoch+1):\n",
    "        epoch_time = time.time()\n",
    "        ## update decay learning rate at the beginning of a epoch\n",
    "        # if epoch !=0 and (epoch % decay_every == 0):\n",
    "        #     new_lr_decay = lr_decay ** (epoch // decay_every)\n",
    "        #     sess.run(tf.assign(lr_v, lr * new_lr_decay))\n",
    "        #     log = \" ** new learning rate: %f\" % (lr * new_lr_decay)\n",
    "        #     print(log)\n",
    "        # elif epoch == 0:\n",
    "        #     sess.run(tf.assign(lr_v, lr))\n",
    "        #     log = \" ** init lr: %f  decay_every_epoch: %d, lr_decay: %f\" % (lr, decay_every, lr_decay)\n",
    "        #     print(log)\n",
    "\n",
    "        total_dice, total_iou, total_dice_hard, n_batch = 0, 0, 0, 0\n",
    "        for batch in tl.iterate.minibatches(inputs=X_train, targets=y_train,\n",
    "                                    batch_size=batch_size, shuffle=True):\n",
    "            images, labels = batch\n",
    "            step_time = time.time()\n",
    "            ## data augumentation for a batch of Flair, T1, T1c, T2 images\n",
    "            # and label maps synchronously.\n",
    "            data = tl.prepro.threading_data([_ for _ in zip(images[:,:,:,0, np.newaxis],\n",
    "                    images[:,:,:,1, np.newaxis], images[:,:,:,2, np.newaxis],\n",
    "                    images[:,:,:,3, np.newaxis], labels)],\n",
    "                    fn=distort_imgs) # (10, 5, 240, 240, 1)\n",
    "            b_images = data[:,0:4,:,:,:]  # (10, 4, 240, 240, 1)\n",
    "            b_labels = data[:,4,:,:,:]\n",
    "            b_images = b_images.transpose((0,2,3,1,4))\n",
    "            b_images.shape = (batch_size, nw, nh, nz)\n",
    "\n",
    "            ## update network\n",
    "            _, _dice, _iou, _diceh, out = sess.run([train_op,\n",
    "                    dice_loss, iou_loss, dice_hard, net.outputs],\n",
    "                    {t_image: b_images, t_seg: b_labels})\n",
    "            total_dice += _dice; total_iou += _iou; total_dice_hard += _diceh\n",
    "            n_batch += 1\n",
    "\n",
    "            ## you can show the predition here:\n",
    "            # vis_imgs2(b_images[0], b_labels[0], out[0], \"samples/{}/_tmp.png\".format(task))\n",
    "            # exit()\n",
    "\n",
    "            # if _dice == 1: # DEBUG\n",
    "            #     print(\"DEBUG\")\n",
    "            #     vis_imgs2(b_images[0], b_labels[0], out[0], \"samples/{}/_debug.png\".format(task))\n",
    "\n",
    "            if n_batch % print_freq_step == 0:\n",
    "                print(\"Epoch %d step %d 1-dice: %f hard-dice: %f iou: %f took %fs (2d with distortion)\"\n",
    "                % (epoch, n_batch, _dice, _diceh, _iou, time.time()-step_time))\n",
    "\n",
    "            ## check model fail\n",
    "            if np.isnan(_dice):\n",
    "                exit(\" ** NaN loss found during training, stop training\")\n",
    "            if np.isnan(out).any():\n",
    "                exit(\" ** NaN found in output images during training, stop training\")\n",
    "\n",
    "        print(\" ** Epoch [%d/%d] train 1-dice: %f hard-dice: %f iou: %f took %fs (2d with distortion)\" %\n",
    "                (epoch, n_epoch, total_dice/n_batch, total_dice_hard/n_batch, total_iou/n_batch, time.time()-epoch_time))\n",
    "\n",
    "        ## save a predition of training set\n",
    "        for i in range(batch_size):\n",
    "            if np.max(b_images[i]) > 0:\n",
    "                vis_imgs2(b_images[i], b_labels[i], out[i], \"samples/{}/train_{}.png\".format(task, epoch))\n",
    "                break\n",
    "            elif i == batch_size-1:\n",
    "                vis_imgs2(b_images[i], b_labels[i], out[i], \"samples/{}/train_{}.png\".format(task, epoch))\n",
    "\n",
    "        ###======================== EVALUATION ==========================###\n",
    "        total_dice, total_iou, total_dice_hard, n_batch = 0, 0, 0, 0\n",
    "        for batch in tl.iterate.minibatches(inputs=X_test, targets=y_test,\n",
    "                                        batch_size=batch_size, shuffle=True):\n",
    "            b_images, b_labels = batch\n",
    "            _dice, _iou, _diceh, out = sess.run([test_dice_loss,\n",
    "                    test_iou_loss, test_dice_hard, net_test.outputs],\n",
    "                    {t_image: b_images, t_seg: b_labels})\n",
    "            total_dice += _dice; total_iou += _iou; total_dice_hard += _diceh\n",
    "            n_batch += 1\n",
    "\n",
    "        print(\" **\"+\" \"*17+\"test 1-dice: %f hard-dice: %f iou: %f (2d no distortion)\" %\n",
    "                (total_dice/n_batch, total_dice_hard/n_batch, total_iou/n_batch))\n",
    "        print(\" task: {}\".format(task))\n",
    "        ## save a predition of test set\n",
    "        for i in range(batch_size):\n",
    "            if np.max(b_images[i]) > 0:\n",
    "                vis_imgs2(b_images[i], b_labels[i], out[i], \"samples/{}/test_{}.png\".format(task, epoch))\n",
    "                break\n",
    "            elif i == batch_size-1:\n",
    "                vis_imgs2(b_images[i], b_labels[i], out[i], \"samples/{}/test_{}.png\".format(task, epoch))\n",
    "\n",
    "        ###======================== SAVE MODEL ==========================###\n",
    "        tl.files.save_npz(net.all_params, name=save_dir+'/u_net_{}.npz'.format(task), sess=sess)"
   ]
  },
  {
   "cell_type": "code",
   "execution_count": 40,
   "metadata": {},
   "outputs": [
    {
     "name": "stdout",
     "output_type": "stream",
     "text": [
      "[!] checkpoint exists ...\n",
      "[!] samples/all exists ...\n",
      "  [TL] InputLayer  u_net/inputs: (10, 240, 240, 4)\n",
      "  [TL] Conv2dLayer u_net/conv1_1: shape:[3, 3, 4, 64] strides:[1, 1, 1, 1] pad:SAME act:relu\n",
      "WARNING:tensorflow:From /home/sangqle/.pyenv/versions/3.6.9/envs/unet/lib/python3.6/site-packages/tensorflow/python/framework/op_def_library.py:263: colocate_with (from tensorflow.python.framework.ops) is deprecated and will be removed in a future version.\n",
      "Instructions for updating:\n",
      "Colocations handled automatically by placer.\n",
      "  [TL] Conv2dLayer u_net/conv1_2: shape:[3, 3, 64, 64] strides:[1, 1, 1, 1] pad:SAME act:relu\n",
      "  [TL] PoolLayer   u_net/pool1: ksize:[1, 2, 2, 1] strides:[1, 2, 2, 1] padding:SAME pool:max_pool\n",
      "  [TL] Conv2dLayer u_net/conv2_1: shape:[3, 3, 64, 128] strides:[1, 1, 1, 1] pad:SAME act:relu\n",
      "  [TL] Conv2dLayer u_net/conv2_2: shape:[3, 3, 128, 128] strides:[1, 1, 1, 1] pad:SAME act:relu\n",
      "  [TL] PoolLayer   u_net/pool2: ksize:[1, 2, 2, 1] strides:[1, 2, 2, 1] padding:SAME pool:max_pool\n",
      "  [TL] Conv2dLayer u_net/conv3_1: shape:[3, 3, 128, 256] strides:[1, 1, 1, 1] pad:SAME act:relu\n",
      "  [TL] Conv2dLayer u_net/conv3_2: shape:[3, 3, 256, 256] strides:[1, 1, 1, 1] pad:SAME act:relu\n",
      "  [TL] PoolLayer   u_net/pool3: ksize:[1, 2, 2, 1] strides:[1, 2, 2, 1] padding:SAME pool:max_pool\n",
      "  [TL] Conv2dLayer u_net/conv4_1: shape:[3, 3, 256, 512] strides:[1, 1, 1, 1] pad:SAME act:relu\n",
      "  [TL] Conv2dLayer u_net/conv4_2: shape:[3, 3, 512, 512] strides:[1, 1, 1, 1] pad:SAME act:relu\n",
      "  [TL] PoolLayer   u_net/pool4: ksize:[1, 2, 2, 1] strides:[1, 2, 2, 1] padding:SAME pool:max_pool\n",
      "  [TL] Conv2dLayer u_net/conv5_1: shape:[3, 3, 512, 1024] strides:[1, 1, 1, 1] pad:SAME act:relu\n",
      "  [TL] Conv2dLayer u_net/conv5_2: shape:[3, 3, 1024, 1024] strides:[1, 1, 1, 1] pad:SAME act:relu\n",
      "  [TL] DeConv2dLayer u_net/deconv4: shape:[3, 3, 512, 1024] out_shape:[10, 30, 30, 512] strides:[1, 2, 2, 1] pad:SAME act:identity\n",
      "  [TL] ConcatLayer u_net/concat4: 1024\n",
      "  [TL] Conv2dLayer u_net/uconv4_1: shape:[3, 3, 1024, 512] strides:[1, 1, 1, 1] pad:SAME act:relu\n",
      "  [TL] Conv2dLayer u_net/uconv4_2: shape:[3, 3, 512, 512] strides:[1, 1, 1, 1] pad:SAME act:relu\n",
      "  [TL] DeConv2dLayer u_net/deconv3: shape:[3, 3, 256, 512] out_shape:[10, 60, 60, 256] strides:[1, 2, 2, 1] pad:SAME act:identity\n",
      "  [TL] ConcatLayer u_net/concat3: 512\n",
      "  [TL] Conv2dLayer u_net/uconv3_1: shape:[3, 3, 512, 256] strides:[1, 1, 1, 1] pad:SAME act:relu\n",
      "  [TL] Conv2dLayer u_net/uconv3_2: shape:[3, 3, 256, 256] strides:[1, 1, 1, 1] pad:SAME act:relu\n",
      "  [TL] DeConv2dLayer u_net/deconv2: shape:[3, 3, 128, 256] out_shape:[10, 120, 120, 128] strides:[1, 2, 2, 1] pad:SAME act:identity\n",
      "  [TL] ConcatLayer u_net/concat2: 256\n",
      "  [TL] Conv2dLayer u_net/uconv2_1: shape:[3, 3, 256, 128] strides:[1, 1, 1, 1] pad:SAME act:relu\n",
      "  [TL] Conv2dLayer u_net/uconv2_2: shape:[3, 3, 128, 128] strides:[1, 1, 1, 1] pad:SAME act:relu\n",
      "  [TL] DeConv2dLayer u_net/deconv1: shape:[3, 3, 64, 128] out_shape:[10, 240, 240, 64] strides:[1, 2, 2, 1] pad:SAME act:identity\n",
      "  [TL] ConcatLayer u_net/concat1: 128\n",
      "  [TL] Conv2dLayer u_net/uconv1_1: shape:[3, 3, 128, 64] strides:[1, 1, 1, 1] pad:SAME act:relu\n",
      "  [TL] Conv2dLayer u_net/uconv1_2: shape:[3, 3, 64, 64] strides:[1, 1, 1, 1] pad:SAME act:relu\n",
      "  [TL] Conv2dLayer u_net/uconv1: shape:[1, 1, 64, 1] strides:[1, 1, 1, 1] pad:SAME act:sigmoid\n",
      "  [TL] InputLayer  u_net/inputs: (10, 240, 240, 4)\n",
      "  [TL] Conv2dLayer u_net/conv1_1: shape:[3, 3, 4, 64] strides:[1, 1, 1, 1] pad:SAME act:relu\n",
      "  [TL] Conv2dLayer u_net/conv1_2: shape:[3, 3, 64, 64] strides:[1, 1, 1, 1] pad:SAME act:relu\n",
      "  [TL] PoolLayer   u_net/pool1: ksize:[1, 2, 2, 1] strides:[1, 2, 2, 1] padding:SAME pool:max_pool\n",
      "  [TL] Conv2dLayer u_net/conv2_1: shape:[3, 3, 64, 128] strides:[1, 1, 1, 1] pad:SAME act:relu\n",
      "  [TL] Conv2dLayer u_net/conv2_2: shape:[3, 3, 128, 128] strides:[1, 1, 1, 1] pad:SAME act:relu\n",
      "  [TL] PoolLayer   u_net/pool2: ksize:[1, 2, 2, 1] strides:[1, 2, 2, 1] padding:SAME pool:max_pool\n",
      "  [TL] Conv2dLayer u_net/conv3_1: shape:[3, 3, 128, 256] strides:[1, 1, 1, 1] pad:SAME act:relu\n",
      "  [TL] Conv2dLayer u_net/conv3_2: shape:[3, 3, 256, 256] strides:[1, 1, 1, 1] pad:SAME act:relu\n",
      "  [TL] PoolLayer   u_net/pool3: ksize:[1, 2, 2, 1] strides:[1, 2, 2, 1] padding:SAME pool:max_pool\n",
      "  [TL] Conv2dLayer u_net/conv4_1: shape:[3, 3, 256, 512] strides:[1, 1, 1, 1] pad:SAME act:relu\n",
      "  [TL] Conv2dLayer u_net/conv4_2: shape:[3, 3, 512, 512] strides:[1, 1, 1, 1] pad:SAME act:relu\n",
      "  [TL] PoolLayer   u_net/pool4: ksize:[1, 2, 2, 1] strides:[1, 2, 2, 1] padding:SAME pool:max_pool\n",
      "  [TL] Conv2dLayer u_net/conv5_1: shape:[3, 3, 512, 1024] strides:[1, 1, 1, 1] pad:SAME act:relu\n",
      "  [TL] Conv2dLayer u_net/conv5_2: shape:[3, 3, 1024, 1024] strides:[1, 1, 1, 1] pad:SAME act:relu\n",
      "  [TL] DeConv2dLayer u_net/deconv4: shape:[3, 3, 512, 1024] out_shape:[10, 30, 30, 512] strides:[1, 2, 2, 1] pad:SAME act:identity\n",
      "  [TL] ConcatLayer u_net/concat4: 1024\n",
      "  [TL] Conv2dLayer u_net/uconv4_1: shape:[3, 3, 1024, 512] strides:[1, 1, 1, 1] pad:SAME act:relu\n",
      "  [TL] Conv2dLayer u_net/uconv4_2: shape:[3, 3, 512, 512] strides:[1, 1, 1, 1] pad:SAME act:relu\n",
      "  [TL] DeConv2dLayer u_net/deconv3: shape:[3, 3, 256, 512] out_shape:[10, 60, 60, 256] strides:[1, 2, 2, 1] pad:SAME act:identity\n",
      "  [TL] ConcatLayer u_net/concat3: 512\n",
      "  [TL] Conv2dLayer u_net/uconv3_1: shape:[3, 3, 512, 256] strides:[1, 1, 1, 1] pad:SAME act:relu\n",
      "  [TL] Conv2dLayer u_net/uconv3_2: shape:[3, 3, 256, 256] strides:[1, 1, 1, 1] pad:SAME act:relu\n",
      "  [TL] DeConv2dLayer u_net/deconv2: shape:[3, 3, 128, 256] out_shape:[10, 120, 120, 128] strides:[1, 2, 2, 1] pad:SAME act:identity\n",
      "  [TL] ConcatLayer u_net/concat2: 256\n",
      "  [TL] Conv2dLayer u_net/uconv2_1: shape:[3, 3, 256, 128] strides:[1, 1, 1, 1] pad:SAME act:relu\n",
      "  [TL] Conv2dLayer u_net/uconv2_2: shape:[3, 3, 128, 128] strides:[1, 1, 1, 1] pad:SAME act:relu\n",
      "  [TL] DeConv2dLayer u_net/deconv1: shape:[3, 3, 64, 128] out_shape:[10, 240, 240, 64] strides:[1, 2, 2, 1] pad:SAME act:identity\n",
      "  [TL] ConcatLayer u_net/concat1: 128\n",
      "  [TL] Conv2dLayer u_net/uconv1_1: shape:[3, 3, 128, 64] strides:[1, 1, 1, 1] pad:SAME act:relu\n",
      "  [TL] Conv2dLayer u_net/uconv1_2: shape:[3, 3, 64, 64] strides:[1, 1, 1, 1] pad:SAME act:relu\n",
      "  [TL] Conv2dLayer u_net/uconv1: shape:[1, 1, 64, 1] strides:[1, 1, 1, 1] pad:SAME act:sigmoid\n",
      "  [*] geting variables with u_net\n",
      "  got   0: u_net/conv1_1/W_conv2d:0   (3, 3, 4, 64)\n",
      "  got   1: u_net/conv1_1/b_conv2d:0   (64,)\n",
      "  got   2: u_net/conv1_2/W_conv2d:0   (3, 3, 64, 64)\n",
      "  got   3: u_net/conv1_2/b_conv2d:0   (64,)\n",
      "  got   4: u_net/conv2_1/W_conv2d:0   (3, 3, 64, 128)\n",
      "  got   5: u_net/conv2_1/b_conv2d:0   (128,)\n",
      "  got   6: u_net/conv2_2/W_conv2d:0   (3, 3, 128, 128)\n",
      "  got   7: u_net/conv2_2/b_conv2d:0   (128,)\n",
      "  got   8: u_net/conv3_1/W_conv2d:0   (3, 3, 128, 256)\n",
      "  got   9: u_net/conv3_1/b_conv2d:0   (256,)\n",
      "  got  10: u_net/conv3_2/W_conv2d:0   (3, 3, 256, 256)\n",
      "  got  11: u_net/conv3_2/b_conv2d:0   (256,)\n",
      "  got  12: u_net/conv4_1/W_conv2d:0   (3, 3, 256, 512)\n",
      "  got  13: u_net/conv4_1/b_conv2d:0   (512,)\n",
      "  got  14: u_net/conv4_2/W_conv2d:0   (3, 3, 512, 512)\n",
      "  got  15: u_net/conv4_2/b_conv2d:0   (512,)\n",
      "  got  16: u_net/conv5_1/W_conv2d:0   (3, 3, 512, 1024)\n",
      "  got  17: u_net/conv5_1/b_conv2d:0   (1024,)\n",
      "  got  18: u_net/conv5_2/W_conv2d:0   (3, 3, 1024, 1024)\n",
      "  got  19: u_net/conv5_2/b_conv2d:0   (1024,)\n",
      "  got  20: u_net/deconv4/W_deconv2d:0   (3, 3, 512, 1024)\n",
      "  got  21: u_net/deconv4/b_deconv2d:0   (512,)\n",
      "  got  22: u_net/uconv4_1/W_conv2d:0   (3, 3, 1024, 512)\n",
      "  got  23: u_net/uconv4_1/b_conv2d:0   (512,)\n",
      "  got  24: u_net/uconv4_2/W_conv2d:0   (3, 3, 512, 512)\n",
      "  got  25: u_net/uconv4_2/b_conv2d:0   (512,)\n",
      "  got  26: u_net/deconv3/W_deconv2d:0   (3, 3, 256, 512)\n",
      "  got  27: u_net/deconv3/b_deconv2d:0   (256,)\n",
      "  got  28: u_net/uconv3_1/W_conv2d:0   (3, 3, 512, 256)\n",
      "  got  29: u_net/uconv3_1/b_conv2d:0   (256,)\n",
      "  got  30: u_net/uconv3_2/W_conv2d:0   (3, 3, 256, 256)\n",
      "  got  31: u_net/uconv3_2/b_conv2d:0   (256,)\n",
      "  got  32: u_net/deconv2/W_deconv2d:0   (3, 3, 128, 256)\n",
      "  got  33: u_net/deconv2/b_deconv2d:0   (128,)\n",
      "  got  34: u_net/uconv2_1/W_conv2d:0   (3, 3, 256, 128)\n",
      "  got  35: u_net/uconv2_1/b_conv2d:0   (128,)\n",
      "  got  36: u_net/uconv2_2/W_conv2d:0   (3, 3, 128, 128)\n",
      "  got  37: u_net/uconv2_2/b_conv2d:0   (128,)\n",
      "  got  38: u_net/deconv1/W_deconv2d:0   (3, 3, 64, 128)\n",
      "  got  39: u_net/deconv1/b_deconv2d:0   (64,)\n",
      "  got  40: u_net/uconv1_1/W_conv2d:0   (3, 3, 128, 64)\n",
      "  got  41: u_net/uconv1_1/b_conv2d:0   (64,)\n",
      "  got  42: u_net/uconv1_2/W_conv2d:0   (3, 3, 64, 64)\n",
      "  got  43: u_net/uconv1_2/b_conv2d:0   (64,)\n",
      "  got  44: u_net/uconv1/W_conv2d:0   (1, 1, 64, 1)\n",
      "  got  45: u_net/uconv1/b_conv2d:0   (1,)\n"
     ]
    },
    {
     "ename": "FailedPreconditionError",
     "evalue": "Attempting to use uninitialized value u_net/uconv1/b_conv2d\n\t [[node u_net/uconv1/b_conv2d/read (defined at /home/sangqle/.pyenv/versions/3.6.9/envs/unet/lib/python3.6/site-packages/tensorlayer/layers.py:1282) ]]\n\nCaused by op 'u_net/uconv1/b_conv2d/read', defined at:\n  File \"/home/sangqle/.pyenv/versions/3.6.9/lib/python3.6/runpy.py\", line 193, in _run_module_as_main\n    \"__main__\", mod_spec)\n  File \"/home/sangqle/.pyenv/versions/3.6.9/lib/python3.6/runpy.py\", line 85, in _run_code\n    exec(code, run_globals)\n  File \"/home/sangqle/.pyenv/versions/3.6.9/envs/unet/lib/python3.6/site-packages/ipykernel_launcher.py\", line 16, in <module>\n    app.launch_new_instance()\n  File \"/home/sangqle/.pyenv/versions/3.6.9/envs/unet/lib/python3.6/site-packages/traitlets/config/application.py\", line 664, in launch_instance\n    app.start()\n  File \"/home/sangqle/.pyenv/versions/3.6.9/envs/unet/lib/python3.6/site-packages/ipykernel/kernelapp.py\", line 612, in start\n    self.io_loop.start()\n  File \"/home/sangqle/.pyenv/versions/3.6.9/envs/unet/lib/python3.6/site-packages/tornado/platform/asyncio.py\", line 199, in start\n    self.asyncio_loop.run_forever()\n  File \"/home/sangqle/.pyenv/versions/3.6.9/lib/python3.6/asyncio/base_events.py\", line 438, in run_forever\n    self._run_once()\n  File \"/home/sangqle/.pyenv/versions/3.6.9/lib/python3.6/asyncio/base_events.py\", line 1451, in _run_once\n    handle._run()\n  File \"/home/sangqle/.pyenv/versions/3.6.9/lib/python3.6/asyncio/events.py\", line 145, in _run\n    self._callback(*self._args)\n  File \"/home/sangqle/.pyenv/versions/3.6.9/envs/unet/lib/python3.6/site-packages/tornado/ioloop.py\", line 688, in <lambda>\n    lambda f: self._run_callback(functools.partial(callback, future))\n  File \"/home/sangqle/.pyenv/versions/3.6.9/envs/unet/lib/python3.6/site-packages/tornado/ioloop.py\", line 741, in _run_callback\n    ret = callback()\n  File \"/home/sangqle/.pyenv/versions/3.6.9/envs/unet/lib/python3.6/site-packages/tornado/gen.py\", line 814, in inner\n    self.ctx_run(self.run)\n  File \"/home/sangqle/.pyenv/versions/3.6.9/envs/unet/lib/python3.6/site-packages/tornado/gen.py\", line 162, in _fake_ctx_run\n    return f(*args, **kw)\n  File \"/home/sangqle/.pyenv/versions/3.6.9/envs/unet/lib/python3.6/site-packages/tornado/gen.py\", line 775, in run\n    yielded = self.gen.send(value)\n  File \"/home/sangqle/.pyenv/versions/3.6.9/envs/unet/lib/python3.6/site-packages/ipykernel/kernelbase.py\", line 365, in process_one\n    yield gen.maybe_future(dispatch(*args))\n  File \"/home/sangqle/.pyenv/versions/3.6.9/envs/unet/lib/python3.6/site-packages/tornado/gen.py\", line 234, in wrapper\n    yielded = ctx_run(next, result)\n  File \"/home/sangqle/.pyenv/versions/3.6.9/envs/unet/lib/python3.6/site-packages/tornado/gen.py\", line 162, in _fake_ctx_run\n    return f(*args, **kw)\n  File \"/home/sangqle/.pyenv/versions/3.6.9/envs/unet/lib/python3.6/site-packages/ipykernel/kernelbase.py\", line 268, in dispatch_shell\n    yield gen.maybe_future(handler(stream, idents, msg))\n  File \"/home/sangqle/.pyenv/versions/3.6.9/envs/unet/lib/python3.6/site-packages/tornado/gen.py\", line 234, in wrapper\n    yielded = ctx_run(next, result)\n  File \"/home/sangqle/.pyenv/versions/3.6.9/envs/unet/lib/python3.6/site-packages/tornado/gen.py\", line 162, in _fake_ctx_run\n    return f(*args, **kw)\n  File \"/home/sangqle/.pyenv/versions/3.6.9/envs/unet/lib/python3.6/site-packages/ipykernel/kernelbase.py\", line 545, in execute_request\n    user_expressions, allow_stdin,\n  File \"/home/sangqle/.pyenv/versions/3.6.9/envs/unet/lib/python3.6/site-packages/tornado/gen.py\", line 234, in wrapper\n    yielded = ctx_run(next, result)\n  File \"/home/sangqle/.pyenv/versions/3.6.9/envs/unet/lib/python3.6/site-packages/tornado/gen.py\", line 162, in _fake_ctx_run\n    return f(*args, **kw)\n  File \"/home/sangqle/.pyenv/versions/3.6.9/envs/unet/lib/python3.6/site-packages/ipykernel/ipkernel.py\", line 306, in do_execute\n    res = shell.run_cell(code, store_history=store_history, silent=silent)\n  File \"/home/sangqle/.pyenv/versions/3.6.9/envs/unet/lib/python3.6/site-packages/ipykernel/zmqshell.py\", line 536, in run_cell\n    return super(ZMQInteractiveShell, self).run_cell(*args, **kwargs)\n  File \"/home/sangqle/.pyenv/versions/3.6.9/envs/unet/lib/python3.6/site-packages/IPython/core/interactiveshell.py\", line 2867, in run_cell\n    raw_cell, store_history, silent, shell_futures)\n  File \"/home/sangqle/.pyenv/versions/3.6.9/envs/unet/lib/python3.6/site-packages/IPython/core/interactiveshell.py\", line 2895, in _run_cell\n    return runner(coro)\n  File \"/home/sangqle/.pyenv/versions/3.6.9/envs/unet/lib/python3.6/site-packages/IPython/core/async_helpers.py\", line 68, in _pseudo_sync_runner\n    coro.send(None)\n  File \"/home/sangqle/.pyenv/versions/3.6.9/envs/unet/lib/python3.6/site-packages/IPython/core/interactiveshell.py\", line 3072, in run_cell_async\n    interactivity=interactivity, compiler=compiler, result=result)\n  File \"/home/sangqle/.pyenv/versions/3.6.9/envs/unet/lib/python3.6/site-packages/IPython/core/interactiveshell.py\", line 3263, in run_ast_nodes\n    if (await self.run_code(code, result,  async_=asy)):\n  File \"/home/sangqle/.pyenv/versions/3.6.9/envs/unet/lib/python3.6/site-packages/IPython/core/interactiveshell.py\", line 3343, in run_code\n    exec(code_obj, self.user_global_ns, self.user_ns)\n  File \"<ipython-input-40-263240bbee7e>\", line 1, in <module>\n    main()\n  File \"<ipython-input-39-76774485ab43>\", line 71, in main\n    net = u_net(t_image, is_train=True, reuse=False, n_out=1)\n  File \"<ipython-input-36-197278fb7f2f>\", line 45, in u_net\n    conv1 = Conv2d(conv1, n_out, (1, 1), act=tf.nn.sigmoid, name='uconv1')\n  File \"/home/sangqle/.pyenv/versions/3.6.9/envs/unet/lib/python3.6/site-packages/tensorlayer/layers.py\", line 1939, in Conv2d\n    name = name)\n  File \"/home/sangqle/.pyenv/versions/3.6.9/envs/unet/lib/python3.6/site-packages/tensorlayer/layers.py\", line 1282, in __init__\n    b = tf.get_variable(name='b_conv2d', shape=(shape[-1]), initializer=b_init, **b_init_args )\n  File \"/home/sangqle/.pyenv/versions/3.6.9/envs/unet/lib/python3.6/site-packages/tensorflow/python/ops/variable_scope.py\", line 1479, in get_variable\n    aggregation=aggregation)\n  File \"/home/sangqle/.pyenv/versions/3.6.9/envs/unet/lib/python3.6/site-packages/tensorflow/python/ops/variable_scope.py\", line 1220, in get_variable\n    aggregation=aggregation)\n  File \"/home/sangqle/.pyenv/versions/3.6.9/envs/unet/lib/python3.6/site-packages/tensorflow/python/ops/variable_scope.py\", line 547, in get_variable\n    aggregation=aggregation)\n  File \"/home/sangqle/.pyenv/versions/3.6.9/envs/unet/lib/python3.6/site-packages/tensorflow/python/ops/variable_scope.py\", line 499, in _true_getter\n    aggregation=aggregation)\n  File \"/home/sangqle/.pyenv/versions/3.6.9/envs/unet/lib/python3.6/site-packages/tensorflow/python/ops/variable_scope.py\", line 911, in _get_single_variable\n    aggregation=aggregation)\n  File \"/home/sangqle/.pyenv/versions/3.6.9/envs/unet/lib/python3.6/site-packages/tensorflow/python/ops/variables.py\", line 213, in __call__\n    return cls._variable_v1_call(*args, **kwargs)\n  File \"/home/sangqle/.pyenv/versions/3.6.9/envs/unet/lib/python3.6/site-packages/tensorflow/python/ops/variables.py\", line 176, in _variable_v1_call\n    aggregation=aggregation)\n  File \"/home/sangqle/.pyenv/versions/3.6.9/envs/unet/lib/python3.6/site-packages/tensorflow/python/ops/variables.py\", line 155, in <lambda>\n    previous_getter = lambda **kwargs: default_variable_creator(None, **kwargs)\n  File \"/home/sangqle/.pyenv/versions/3.6.9/envs/unet/lib/python3.6/site-packages/tensorflow/python/ops/variable_scope.py\", line 2495, in default_variable_creator\n    expected_shape=expected_shape, import_scope=import_scope)\n  File \"/home/sangqle/.pyenv/versions/3.6.9/envs/unet/lib/python3.6/site-packages/tensorflow/python/ops/variables.py\", line 217, in __call__\n    return super(VariableMetaclass, cls).__call__(*args, **kwargs)\n  File \"/home/sangqle/.pyenv/versions/3.6.9/envs/unet/lib/python3.6/site-packages/tensorflow/python/ops/variables.py\", line 1395, in __init__\n    constraint=constraint)\n  File \"/home/sangqle/.pyenv/versions/3.6.9/envs/unet/lib/python3.6/site-packages/tensorflow/python/ops/variables.py\", line 1557, in _init_from_args\n    self._snapshot = array_ops.identity(self._variable, name=\"read\")\n  File \"/home/sangqle/.pyenv/versions/3.6.9/envs/unet/lib/python3.6/site-packages/tensorflow/python/util/dispatch.py\", line 180, in wrapper\n    return target(*args, **kwargs)\n  File \"/home/sangqle/.pyenv/versions/3.6.9/envs/unet/lib/python3.6/site-packages/tensorflow/python/ops/array_ops.py\", line 81, in identity\n    ret = gen_array_ops.identity(input, name=name)\n  File \"/home/sangqle/.pyenv/versions/3.6.9/envs/unet/lib/python3.6/site-packages/tensorflow/python/ops/gen_array_ops.py\", line 3890, in identity\n    \"Identity\", input=input, name=name)\n  File \"/home/sangqle/.pyenv/versions/3.6.9/envs/unet/lib/python3.6/site-packages/tensorflow/python/framework/op_def_library.py\", line 788, in _apply_op_helper\n    op_def=op_def)\n  File \"/home/sangqle/.pyenv/versions/3.6.9/envs/unet/lib/python3.6/site-packages/tensorflow/python/util/deprecation.py\", line 507, in new_func\n    return func(*args, **kwargs)\n  File \"/home/sangqle/.pyenv/versions/3.6.9/envs/unet/lib/python3.6/site-packages/tensorflow/python/framework/ops.py\", line 3300, in create_op\n    op_def=op_def)\n  File \"/home/sangqle/.pyenv/versions/3.6.9/envs/unet/lib/python3.6/site-packages/tensorflow/python/framework/ops.py\", line 1801, in __init__\n    self._traceback = tf_stack.extract_stack()\n\nFailedPreconditionError (see above for traceback): Attempting to use uninitialized value u_net/uconv1/b_conv2d\n\t [[node u_net/uconv1/b_conv2d/read (defined at /home/sangqle/.pyenv/versions/3.6.9/envs/unet/lib/python3.6/site-packages/tensorlayer/layers.py:1282) ]]\n",
     "output_type": "error",
     "traceback": [
      "\u001b[0;31m---------------------------------------------------------------------------\u001b[0m",
      "\u001b[0;31mFailedPreconditionError\u001b[0m                   Traceback (most recent call last)",
      "\u001b[0;32m~/.pyenv/versions/3.6.9/envs/unet/lib/python3.6/site-packages/tensorflow/python/client/session.py\u001b[0m in \u001b[0;36m_do_call\u001b[0;34m(self, fn, *args)\u001b[0m\n\u001b[1;32m   1333\u001b[0m     \u001b[0;32mtry\u001b[0m\u001b[0;34m:\u001b[0m\u001b[0;34m\u001b[0m\u001b[0;34m\u001b[0m\u001b[0m\n\u001b[0;32m-> 1334\u001b[0;31m       \u001b[0;32mreturn\u001b[0m \u001b[0mfn\u001b[0m\u001b[0;34m(\u001b[0m\u001b[0;34m*\u001b[0m\u001b[0margs\u001b[0m\u001b[0;34m)\u001b[0m\u001b[0;34m\u001b[0m\u001b[0;34m\u001b[0m\u001b[0m\n\u001b[0m\u001b[1;32m   1335\u001b[0m     \u001b[0;32mexcept\u001b[0m \u001b[0merrors\u001b[0m\u001b[0;34m.\u001b[0m\u001b[0mOpError\u001b[0m \u001b[0;32mas\u001b[0m \u001b[0me\u001b[0m\u001b[0;34m:\u001b[0m\u001b[0;34m\u001b[0m\u001b[0;34m\u001b[0m\u001b[0m\n",
      "\u001b[0;32m~/.pyenv/versions/3.6.9/envs/unet/lib/python3.6/site-packages/tensorflow/python/client/session.py\u001b[0m in \u001b[0;36m_run_fn\u001b[0;34m(feed_dict, fetch_list, target_list, options, run_metadata)\u001b[0m\n\u001b[1;32m   1318\u001b[0m       return self._call_tf_sessionrun(\n\u001b[0;32m-> 1319\u001b[0;31m           options, feed_dict, fetch_list, target_list, run_metadata)\n\u001b[0m\u001b[1;32m   1320\u001b[0m \u001b[0;34m\u001b[0m\u001b[0m\n",
      "\u001b[0;32m~/.pyenv/versions/3.6.9/envs/unet/lib/python3.6/site-packages/tensorflow/python/client/session.py\u001b[0m in \u001b[0;36m_call_tf_sessionrun\u001b[0;34m(self, options, feed_dict, fetch_list, target_list, run_metadata)\u001b[0m\n\u001b[1;32m   1406\u001b[0m         \u001b[0mself\u001b[0m\u001b[0;34m.\u001b[0m\u001b[0m_session\u001b[0m\u001b[0;34m,\u001b[0m \u001b[0moptions\u001b[0m\u001b[0;34m,\u001b[0m \u001b[0mfeed_dict\u001b[0m\u001b[0;34m,\u001b[0m \u001b[0mfetch_list\u001b[0m\u001b[0;34m,\u001b[0m \u001b[0mtarget_list\u001b[0m\u001b[0;34m,\u001b[0m\u001b[0;34m\u001b[0m\u001b[0;34m\u001b[0m\u001b[0m\n\u001b[0;32m-> 1407\u001b[0;31m         run_metadata)\n\u001b[0m\u001b[1;32m   1408\u001b[0m \u001b[0;34m\u001b[0m\u001b[0m\n",
      "\u001b[0;31mFailedPreconditionError\u001b[0m: Attempting to use uninitialized value u_net/uconv1/b_conv2d\n\t [[{{node u_net/uconv1/b_conv2d/read}}]]",
      "\nDuring handling of the above exception, another exception occurred:\n",
      "\u001b[0;31mFailedPreconditionError\u001b[0m                   Traceback (most recent call last)",
      "\u001b[0;32m<ipython-input-40-263240bbee7e>\u001b[0m in \u001b[0;36m<module>\u001b[0;34m\u001b[0m\n\u001b[0;32m----> 1\u001b[0;31m \u001b[0mmain\u001b[0m\u001b[0;34m(\u001b[0m\u001b[0;34m)\u001b[0m\u001b[0;34m\u001b[0m\u001b[0;34m\u001b[0m\u001b[0m\n\u001b[0m",
      "\u001b[0;32m<ipython-input-39-76774485ab43>\u001b[0m in \u001b[0;36mmain\u001b[0;34m(task)\u001b[0m\n\u001b[1;32m    132\u001b[0m             _, _dice, _iou, _diceh, out = sess.run([train_op,\n\u001b[1;32m    133\u001b[0m                     dice_loss, iou_loss, dice_hard, net.outputs],\n\u001b[0;32m--> 134\u001b[0;31m                     {t_image: b_images, t_seg: b_labels})\n\u001b[0m\u001b[1;32m    135\u001b[0m             \u001b[0mtotal_dice\u001b[0m \u001b[0;34m+=\u001b[0m \u001b[0m_dice\u001b[0m\u001b[0;34m;\u001b[0m \u001b[0mtotal_iou\u001b[0m \u001b[0;34m+=\u001b[0m \u001b[0m_iou\u001b[0m\u001b[0;34m;\u001b[0m \u001b[0mtotal_dice_hard\u001b[0m \u001b[0;34m+=\u001b[0m \u001b[0m_diceh\u001b[0m\u001b[0;34m\u001b[0m\u001b[0;34m\u001b[0m\u001b[0m\n\u001b[1;32m    136\u001b[0m             \u001b[0mn_batch\u001b[0m \u001b[0;34m+=\u001b[0m \u001b[0;36m1\u001b[0m\u001b[0;34m\u001b[0m\u001b[0;34m\u001b[0m\u001b[0m\n",
      "\u001b[0;32m~/.pyenv/versions/3.6.9/envs/unet/lib/python3.6/site-packages/tensorflow/python/client/session.py\u001b[0m in \u001b[0;36mrun\u001b[0;34m(self, fetches, feed_dict, options, run_metadata)\u001b[0m\n\u001b[1;32m    927\u001b[0m     \u001b[0;32mtry\u001b[0m\u001b[0;34m:\u001b[0m\u001b[0;34m\u001b[0m\u001b[0;34m\u001b[0m\u001b[0m\n\u001b[1;32m    928\u001b[0m       result = self._run(None, fetches, feed_dict, options_ptr,\n\u001b[0;32m--> 929\u001b[0;31m                          run_metadata_ptr)\n\u001b[0m\u001b[1;32m    930\u001b[0m       \u001b[0;32mif\u001b[0m \u001b[0mrun_metadata\u001b[0m\u001b[0;34m:\u001b[0m\u001b[0;34m\u001b[0m\u001b[0;34m\u001b[0m\u001b[0m\n\u001b[1;32m    931\u001b[0m         \u001b[0mproto_data\u001b[0m \u001b[0;34m=\u001b[0m \u001b[0mtf_session\u001b[0m\u001b[0;34m.\u001b[0m\u001b[0mTF_GetBuffer\u001b[0m\u001b[0;34m(\u001b[0m\u001b[0mrun_metadata_ptr\u001b[0m\u001b[0;34m)\u001b[0m\u001b[0;34m\u001b[0m\u001b[0;34m\u001b[0m\u001b[0m\n",
      "\u001b[0;32m~/.pyenv/versions/3.6.9/envs/unet/lib/python3.6/site-packages/tensorflow/python/client/session.py\u001b[0m in \u001b[0;36m_run\u001b[0;34m(self, handle, fetches, feed_dict, options, run_metadata)\u001b[0m\n\u001b[1;32m   1150\u001b[0m     \u001b[0;32mif\u001b[0m \u001b[0mfinal_fetches\u001b[0m \u001b[0;32mor\u001b[0m \u001b[0mfinal_targets\u001b[0m \u001b[0;32mor\u001b[0m \u001b[0;34m(\u001b[0m\u001b[0mhandle\u001b[0m \u001b[0;32mand\u001b[0m \u001b[0mfeed_dict_tensor\u001b[0m\u001b[0;34m)\u001b[0m\u001b[0;34m:\u001b[0m\u001b[0;34m\u001b[0m\u001b[0;34m\u001b[0m\u001b[0m\n\u001b[1;32m   1151\u001b[0m       results = self._do_run(handle, final_targets, final_fetches,\n\u001b[0;32m-> 1152\u001b[0;31m                              feed_dict_tensor, options, run_metadata)\n\u001b[0m\u001b[1;32m   1153\u001b[0m     \u001b[0;32melse\u001b[0m\u001b[0;34m:\u001b[0m\u001b[0;34m\u001b[0m\u001b[0;34m\u001b[0m\u001b[0m\n\u001b[1;32m   1154\u001b[0m       \u001b[0mresults\u001b[0m \u001b[0;34m=\u001b[0m \u001b[0;34m[\u001b[0m\u001b[0;34m]\u001b[0m\u001b[0;34m\u001b[0m\u001b[0;34m\u001b[0m\u001b[0m\n",
      "\u001b[0;32m~/.pyenv/versions/3.6.9/envs/unet/lib/python3.6/site-packages/tensorflow/python/client/session.py\u001b[0m in \u001b[0;36m_do_run\u001b[0;34m(self, handle, target_list, fetch_list, feed_dict, options, run_metadata)\u001b[0m\n\u001b[1;32m   1326\u001b[0m     \u001b[0;32mif\u001b[0m \u001b[0mhandle\u001b[0m \u001b[0;32mis\u001b[0m \u001b[0;32mNone\u001b[0m\u001b[0;34m:\u001b[0m\u001b[0;34m\u001b[0m\u001b[0;34m\u001b[0m\u001b[0m\n\u001b[1;32m   1327\u001b[0m       return self._do_call(_run_fn, feeds, fetches, targets, options,\n\u001b[0;32m-> 1328\u001b[0;31m                            run_metadata)\n\u001b[0m\u001b[1;32m   1329\u001b[0m     \u001b[0;32melse\u001b[0m\u001b[0;34m:\u001b[0m\u001b[0;34m\u001b[0m\u001b[0;34m\u001b[0m\u001b[0m\n\u001b[1;32m   1330\u001b[0m       \u001b[0;32mreturn\u001b[0m \u001b[0mself\u001b[0m\u001b[0;34m.\u001b[0m\u001b[0m_do_call\u001b[0m\u001b[0;34m(\u001b[0m\u001b[0m_prun_fn\u001b[0m\u001b[0;34m,\u001b[0m \u001b[0mhandle\u001b[0m\u001b[0;34m,\u001b[0m \u001b[0mfeeds\u001b[0m\u001b[0;34m,\u001b[0m \u001b[0mfetches\u001b[0m\u001b[0;34m)\u001b[0m\u001b[0;34m\u001b[0m\u001b[0;34m\u001b[0m\u001b[0m\n",
      "\u001b[0;32m~/.pyenv/versions/3.6.9/envs/unet/lib/python3.6/site-packages/tensorflow/python/client/session.py\u001b[0m in \u001b[0;36m_do_call\u001b[0;34m(self, fn, *args)\u001b[0m\n\u001b[1;32m   1346\u001b[0m           \u001b[0;32mpass\u001b[0m\u001b[0;34m\u001b[0m\u001b[0;34m\u001b[0m\u001b[0m\n\u001b[1;32m   1347\u001b[0m       \u001b[0mmessage\u001b[0m \u001b[0;34m=\u001b[0m \u001b[0merror_interpolation\u001b[0m\u001b[0;34m.\u001b[0m\u001b[0minterpolate\u001b[0m\u001b[0;34m(\u001b[0m\u001b[0mmessage\u001b[0m\u001b[0;34m,\u001b[0m \u001b[0mself\u001b[0m\u001b[0;34m.\u001b[0m\u001b[0m_graph\u001b[0m\u001b[0;34m)\u001b[0m\u001b[0;34m\u001b[0m\u001b[0;34m\u001b[0m\u001b[0m\n\u001b[0;32m-> 1348\u001b[0;31m       \u001b[0;32mraise\u001b[0m \u001b[0mtype\u001b[0m\u001b[0;34m(\u001b[0m\u001b[0me\u001b[0m\u001b[0;34m)\u001b[0m\u001b[0;34m(\u001b[0m\u001b[0mnode_def\u001b[0m\u001b[0;34m,\u001b[0m \u001b[0mop\u001b[0m\u001b[0;34m,\u001b[0m \u001b[0mmessage\u001b[0m\u001b[0;34m)\u001b[0m\u001b[0;34m\u001b[0m\u001b[0;34m\u001b[0m\u001b[0m\n\u001b[0m\u001b[1;32m   1349\u001b[0m \u001b[0;34m\u001b[0m\u001b[0m\n\u001b[1;32m   1350\u001b[0m   \u001b[0;32mdef\u001b[0m \u001b[0m_extend_graph\u001b[0m\u001b[0;34m(\u001b[0m\u001b[0mself\u001b[0m\u001b[0;34m)\u001b[0m\u001b[0;34m:\u001b[0m\u001b[0;34m\u001b[0m\u001b[0;34m\u001b[0m\u001b[0m\n",
      "\u001b[0;31mFailedPreconditionError\u001b[0m: Attempting to use uninitialized value u_net/uconv1/b_conv2d\n\t [[node u_net/uconv1/b_conv2d/read (defined at /home/sangqle/.pyenv/versions/3.6.9/envs/unet/lib/python3.6/site-packages/tensorlayer/layers.py:1282) ]]\n\nCaused by op 'u_net/uconv1/b_conv2d/read', defined at:\n  File \"/home/sangqle/.pyenv/versions/3.6.9/lib/python3.6/runpy.py\", line 193, in _run_module_as_main\n    \"__main__\", mod_spec)\n  File \"/home/sangqle/.pyenv/versions/3.6.9/lib/python3.6/runpy.py\", line 85, in _run_code\n    exec(code, run_globals)\n  File \"/home/sangqle/.pyenv/versions/3.6.9/envs/unet/lib/python3.6/site-packages/ipykernel_launcher.py\", line 16, in <module>\n    app.launch_new_instance()\n  File \"/home/sangqle/.pyenv/versions/3.6.9/envs/unet/lib/python3.6/site-packages/traitlets/config/application.py\", line 664, in launch_instance\n    app.start()\n  File \"/home/sangqle/.pyenv/versions/3.6.9/envs/unet/lib/python3.6/site-packages/ipykernel/kernelapp.py\", line 612, in start\n    self.io_loop.start()\n  File \"/home/sangqle/.pyenv/versions/3.6.9/envs/unet/lib/python3.6/site-packages/tornado/platform/asyncio.py\", line 199, in start\n    self.asyncio_loop.run_forever()\n  File \"/home/sangqle/.pyenv/versions/3.6.9/lib/python3.6/asyncio/base_events.py\", line 438, in run_forever\n    self._run_once()\n  File \"/home/sangqle/.pyenv/versions/3.6.9/lib/python3.6/asyncio/base_events.py\", line 1451, in _run_once\n    handle._run()\n  File \"/home/sangqle/.pyenv/versions/3.6.9/lib/python3.6/asyncio/events.py\", line 145, in _run\n    self._callback(*self._args)\n  File \"/home/sangqle/.pyenv/versions/3.6.9/envs/unet/lib/python3.6/site-packages/tornado/ioloop.py\", line 688, in <lambda>\n    lambda f: self._run_callback(functools.partial(callback, future))\n  File \"/home/sangqle/.pyenv/versions/3.6.9/envs/unet/lib/python3.6/site-packages/tornado/ioloop.py\", line 741, in _run_callback\n    ret = callback()\n  File \"/home/sangqle/.pyenv/versions/3.6.9/envs/unet/lib/python3.6/site-packages/tornado/gen.py\", line 814, in inner\n    self.ctx_run(self.run)\n  File \"/home/sangqle/.pyenv/versions/3.6.9/envs/unet/lib/python3.6/site-packages/tornado/gen.py\", line 162, in _fake_ctx_run\n    return f(*args, **kw)\n  File \"/home/sangqle/.pyenv/versions/3.6.9/envs/unet/lib/python3.6/site-packages/tornado/gen.py\", line 775, in run\n    yielded = self.gen.send(value)\n  File \"/home/sangqle/.pyenv/versions/3.6.9/envs/unet/lib/python3.6/site-packages/ipykernel/kernelbase.py\", line 365, in process_one\n    yield gen.maybe_future(dispatch(*args))\n  File \"/home/sangqle/.pyenv/versions/3.6.9/envs/unet/lib/python3.6/site-packages/tornado/gen.py\", line 234, in wrapper\n    yielded = ctx_run(next, result)\n  File \"/home/sangqle/.pyenv/versions/3.6.9/envs/unet/lib/python3.6/site-packages/tornado/gen.py\", line 162, in _fake_ctx_run\n    return f(*args, **kw)\n  File \"/home/sangqle/.pyenv/versions/3.6.9/envs/unet/lib/python3.6/site-packages/ipykernel/kernelbase.py\", line 268, in dispatch_shell\n    yield gen.maybe_future(handler(stream, idents, msg))\n  File \"/home/sangqle/.pyenv/versions/3.6.9/envs/unet/lib/python3.6/site-packages/tornado/gen.py\", line 234, in wrapper\n    yielded = ctx_run(next, result)\n  File \"/home/sangqle/.pyenv/versions/3.6.9/envs/unet/lib/python3.6/site-packages/tornado/gen.py\", line 162, in _fake_ctx_run\n    return f(*args, **kw)\n  File \"/home/sangqle/.pyenv/versions/3.6.9/envs/unet/lib/python3.6/site-packages/ipykernel/kernelbase.py\", line 545, in execute_request\n    user_expressions, allow_stdin,\n  File \"/home/sangqle/.pyenv/versions/3.6.9/envs/unet/lib/python3.6/site-packages/tornado/gen.py\", line 234, in wrapper\n    yielded = ctx_run(next, result)\n  File \"/home/sangqle/.pyenv/versions/3.6.9/envs/unet/lib/python3.6/site-packages/tornado/gen.py\", line 162, in _fake_ctx_run\n    return f(*args, **kw)\n  File \"/home/sangqle/.pyenv/versions/3.6.9/envs/unet/lib/python3.6/site-packages/ipykernel/ipkernel.py\", line 306, in do_execute\n    res = shell.run_cell(code, store_history=store_history, silent=silent)\n  File \"/home/sangqle/.pyenv/versions/3.6.9/envs/unet/lib/python3.6/site-packages/ipykernel/zmqshell.py\", line 536, in run_cell\n    return super(ZMQInteractiveShell, self).run_cell(*args, **kwargs)\n  File \"/home/sangqle/.pyenv/versions/3.6.9/envs/unet/lib/python3.6/site-packages/IPython/core/interactiveshell.py\", line 2867, in run_cell\n    raw_cell, store_history, silent, shell_futures)\n  File \"/home/sangqle/.pyenv/versions/3.6.9/envs/unet/lib/python3.6/site-packages/IPython/core/interactiveshell.py\", line 2895, in _run_cell\n    return runner(coro)\n  File \"/home/sangqle/.pyenv/versions/3.6.9/envs/unet/lib/python3.6/site-packages/IPython/core/async_helpers.py\", line 68, in _pseudo_sync_runner\n    coro.send(None)\n  File \"/home/sangqle/.pyenv/versions/3.6.9/envs/unet/lib/python3.6/site-packages/IPython/core/interactiveshell.py\", line 3072, in run_cell_async\n    interactivity=interactivity, compiler=compiler, result=result)\n  File \"/home/sangqle/.pyenv/versions/3.6.9/envs/unet/lib/python3.6/site-packages/IPython/core/interactiveshell.py\", line 3263, in run_ast_nodes\n    if (await self.run_code(code, result,  async_=asy)):\n  File \"/home/sangqle/.pyenv/versions/3.6.9/envs/unet/lib/python3.6/site-packages/IPython/core/interactiveshell.py\", line 3343, in run_code\n    exec(code_obj, self.user_global_ns, self.user_ns)\n  File \"<ipython-input-40-263240bbee7e>\", line 1, in <module>\n    main()\n  File \"<ipython-input-39-76774485ab43>\", line 71, in main\n    net = u_net(t_image, is_train=True, reuse=False, n_out=1)\n  File \"<ipython-input-36-197278fb7f2f>\", line 45, in u_net\n    conv1 = Conv2d(conv1, n_out, (1, 1), act=tf.nn.sigmoid, name='uconv1')\n  File \"/home/sangqle/.pyenv/versions/3.6.9/envs/unet/lib/python3.6/site-packages/tensorlayer/layers.py\", line 1939, in Conv2d\n    name = name)\n  File \"/home/sangqle/.pyenv/versions/3.6.9/envs/unet/lib/python3.6/site-packages/tensorlayer/layers.py\", line 1282, in __init__\n    b = tf.get_variable(name='b_conv2d', shape=(shape[-1]), initializer=b_init, **b_init_args )\n  File \"/home/sangqle/.pyenv/versions/3.6.9/envs/unet/lib/python3.6/site-packages/tensorflow/python/ops/variable_scope.py\", line 1479, in get_variable\n    aggregation=aggregation)\n  File \"/home/sangqle/.pyenv/versions/3.6.9/envs/unet/lib/python3.6/site-packages/tensorflow/python/ops/variable_scope.py\", line 1220, in get_variable\n    aggregation=aggregation)\n  File \"/home/sangqle/.pyenv/versions/3.6.9/envs/unet/lib/python3.6/site-packages/tensorflow/python/ops/variable_scope.py\", line 547, in get_variable\n    aggregation=aggregation)\n  File \"/home/sangqle/.pyenv/versions/3.6.9/envs/unet/lib/python3.6/site-packages/tensorflow/python/ops/variable_scope.py\", line 499, in _true_getter\n    aggregation=aggregation)\n  File \"/home/sangqle/.pyenv/versions/3.6.9/envs/unet/lib/python3.6/site-packages/tensorflow/python/ops/variable_scope.py\", line 911, in _get_single_variable\n    aggregation=aggregation)\n  File \"/home/sangqle/.pyenv/versions/3.6.9/envs/unet/lib/python3.6/site-packages/tensorflow/python/ops/variables.py\", line 213, in __call__\n    return cls._variable_v1_call(*args, **kwargs)\n  File \"/home/sangqle/.pyenv/versions/3.6.9/envs/unet/lib/python3.6/site-packages/tensorflow/python/ops/variables.py\", line 176, in _variable_v1_call\n    aggregation=aggregation)\n  File \"/home/sangqle/.pyenv/versions/3.6.9/envs/unet/lib/python3.6/site-packages/tensorflow/python/ops/variables.py\", line 155, in <lambda>\n    previous_getter = lambda **kwargs: default_variable_creator(None, **kwargs)\n  File \"/home/sangqle/.pyenv/versions/3.6.9/envs/unet/lib/python3.6/site-packages/tensorflow/python/ops/variable_scope.py\", line 2495, in default_variable_creator\n    expected_shape=expected_shape, import_scope=import_scope)\n  File \"/home/sangqle/.pyenv/versions/3.6.9/envs/unet/lib/python3.6/site-packages/tensorflow/python/ops/variables.py\", line 217, in __call__\n    return super(VariableMetaclass, cls).__call__(*args, **kwargs)\n  File \"/home/sangqle/.pyenv/versions/3.6.9/envs/unet/lib/python3.6/site-packages/tensorflow/python/ops/variables.py\", line 1395, in __init__\n    constraint=constraint)\n  File \"/home/sangqle/.pyenv/versions/3.6.9/envs/unet/lib/python3.6/site-packages/tensorflow/python/ops/variables.py\", line 1557, in _init_from_args\n    self._snapshot = array_ops.identity(self._variable, name=\"read\")\n  File \"/home/sangqle/.pyenv/versions/3.6.9/envs/unet/lib/python3.6/site-packages/tensorflow/python/util/dispatch.py\", line 180, in wrapper\n    return target(*args, **kwargs)\n  File \"/home/sangqle/.pyenv/versions/3.6.9/envs/unet/lib/python3.6/site-packages/tensorflow/python/ops/array_ops.py\", line 81, in identity\n    ret = gen_array_ops.identity(input, name=name)\n  File \"/home/sangqle/.pyenv/versions/3.6.9/envs/unet/lib/python3.6/site-packages/tensorflow/python/ops/gen_array_ops.py\", line 3890, in identity\n    \"Identity\", input=input, name=name)\n  File \"/home/sangqle/.pyenv/versions/3.6.9/envs/unet/lib/python3.6/site-packages/tensorflow/python/framework/op_def_library.py\", line 788, in _apply_op_helper\n    op_def=op_def)\n  File \"/home/sangqle/.pyenv/versions/3.6.9/envs/unet/lib/python3.6/site-packages/tensorflow/python/util/deprecation.py\", line 507, in new_func\n    return func(*args, **kwargs)\n  File \"/home/sangqle/.pyenv/versions/3.6.9/envs/unet/lib/python3.6/site-packages/tensorflow/python/framework/ops.py\", line 3300, in create_op\n    op_def=op_def)\n  File \"/home/sangqle/.pyenv/versions/3.6.9/envs/unet/lib/python3.6/site-packages/tensorflow/python/framework/ops.py\", line 1801, in __init__\n    self._traceback = tf_stack.extract_stack()\n\nFailedPreconditionError (see above for traceback): Attempting to use uninitialized value u_net/uconv1/b_conv2d\n\t [[node u_net/uconv1/b_conv2d/read (defined at /home/sangqle/.pyenv/versions/3.6.9/envs/unet/lib/python3.6/site-packages/tensorlayer/layers.py:1282) ]]\n"
     ]
    }
   ],
   "source": [
    "main()"
   ]
  },
  {
   "cell_type": "code",
   "execution_count": null,
   "metadata": {},
   "outputs": [],
   "source": []
  },
  {
   "cell_type": "code",
   "execution_count": null,
   "metadata": {},
   "outputs": [],
   "source": []
  },
  {
   "cell_type": "code",
   "execution_count": null,
   "metadata": {},
   "outputs": [],
   "source": []
  },
  {
   "cell_type": "code",
   "execution_count": null,
   "metadata": {},
   "outputs": [],
   "source": []
  },
  {
   "cell_type": "code",
   "execution_count": null,
   "metadata": {},
   "outputs": [],
   "source": []
  },
  {
   "cell_type": "code",
   "execution_count": null,
   "metadata": {},
   "outputs": [],
   "source": []
  },
  {
   "cell_type": "code",
   "execution_count": null,
   "metadata": {},
   "outputs": [],
   "source": []
  },
  {
   "cell_type": "code",
   "execution_count": null,
   "metadata": {},
   "outputs": [],
   "source": []
  }
 ],
 "metadata": {
  "kernelspec": {
   "display_name": "Python 3",
   "language": "python",
   "name": "python3"
  },
  "language_info": {
   "codemirror_mode": {
    "name": "ipython",
    "version": 3
   },
   "file_extension": ".py",
   "mimetype": "text/x-python",
   "name": "python",
   "nbconvert_exporter": "python",
   "pygments_lexer": "ipython3",
   "version": "3.6.9"
  }
 },
 "nbformat": 4,
 "nbformat_minor": 4
}
